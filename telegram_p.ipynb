{
  "cells": [
    {
      "cell_type": "markdown",
      "source": [
        "# Структура проекта"
      ],
      "metadata": {
        "id": "kC01cHSjDLFf"
      }
    },
    {
      "cell_type": "markdown",
      "source": [
        "# Постановка цели\n",
        "\n",
        "Составить портрет вакансий Data Scientist и Data Analytist по телеграм-каналам, по критериям:\n",
        "- наличие высшего технического образования;\n",
        "- уровнеь владения английским языком;\n",
        "- требования к уровню навыков - junior, middle, senior;\n",
        "- условия работы - удалённая, офис, удалёнка."
      ],
      "metadata": {
        "id": "WHGjHGa5BYyF"
      }
    },
    {
      "cell_type": "markdown",
      "source": [
        "# Предобработка данных\n",
        "\n",
        "- исследовать пропущенные значения\n",
        "- исследовать соответствие типов данных и привести к нужному\n",
        "- проверка наименований колонок и привести к корректную форму при необходимости\n",
        "- привести данные к нижнему регистру\n",
        "- удалить дубликаты.\n",
        "- удалить пропуски.\n",
        "- сортировать по дате.\n",
        "\n",
        "Далее, определиться: использовать лемматизацию текста и выделять леммы для поиска уникальных ключевых слов, либо использовать регулярные выражения для поиска однокоренных слов.\n",
        "\n",
        "- Объединить вакансии в две категории Data Scientist и Data Analytist.\n",
        "- Создать столбец с уровнем образования.\n",
        "- Создать столбец с наличием опыта работы.\n",
        "- Создать столбец с требованиями по уровню навыков - junior, middle, senior.\n",
        "- Создать столбец по условию работы - удалённо или офис."
      ],
      "metadata": {
        "id": "hkdMX6UdCFUY"
      }
    },
    {
      "cell_type": "markdown",
      "source": [
        "# Анализ данных\n",
        "\n",
        "Провести анализ двух типов вакансий и посмотреть как каждая из них отличалась от прошлого года.\n",
        "\n",
        "- Провести анализ количества вакансий для DA и DS.\n",
        "- Провести анализ по образованию.\n",
        "- Провести анализ по уровню владения английским языком.\n",
        "- Анализ по требованиям к уровню навыков - junior, middle, senior.\n",
        "- Анализ по работе - удалённая или офис.\n",
        "\n",
        "Описать выводы, построить графики и диаграммы для отображения результатов."
      ],
      "metadata": {
        "id": "B0SbOzK9DTtk"
      }
    },
    {
      "cell_type": "markdown",
      "source": [
        "# Импорт библиотек"
      ],
      "metadata": {
        "id": "UhtAsMxdDKZY"
      }
    },
    {
      "cell_type": "code",
      "source": [
        "# import pyrogram\n",
        "import requests\n",
        "import numpy as np\n",
        "from bs4 import BeautifulSoup\n",
        "# from dotenv import load_dotenv\n",
        "import os\n",
        "# from pyrogram import Client\n",
        "import pandas as pd\n",
        "import json\n",
        "from datetime import datetime\n",
        "import re\n",
        "from IPython.core.display import display, HTML, clear_output\n",
        "import ipywidgets as widgets\n",
        "import matplotlib.pyplot as plt\n",
        "import seaborn as sns\n",
        "import math as math\n",
        "from pylab import rcParams"
      ],
      "metadata": {
        "id": "RhppZW-bDFRI"
      },
      "execution_count": null,
      "outputs": []
    },
    {
      "cell_type": "markdown",
      "metadata": {
        "id": "9F0z4DVmzE9e"
      },
      "source": [
        "# Парсер вакансий"
      ]
    },
    {
      "cell_type": "code",
      "execution_count": null,
      "metadata": {
        "colab": {
          "base_uri": "https://localhost:8080/",
          "height": 35
        },
        "id": "mzjNEd2RzE9h",
        "outputId": "3550be8a-a525-4098-ae7c-9f35906a7b89"
      },
      "outputs": [
        {
          "output_type": "execute_result",
          "data": {
            "text/plain": [
              "'!pip install pyrogram tgcrypto'"
            ],
            "application/vnd.google.colaboratory.intrinsic+json": {
              "type": "string"
            }
          },
          "metadata": {},
          "execution_count": 2
        }
      ],
      "source": [
        "'''!pip install pyrogram tgcrypto'''"
      ]
    },
    {
      "cell_type": "code",
      "execution_count": null,
      "metadata": {
        "colab": {
          "base_uri": "https://localhost:8080/",
          "height": 35
        },
        "id": "xaE4un2HzE9j",
        "outputId": "1c56e85e-8119-4894-98ae-61fef5aa23e0"
      },
      "outputs": [
        {
          "output_type": "execute_result",
          "data": {
            "text/plain": [
              "'!pip install python-dotenv'"
            ],
            "application/vnd.google.colaboratory.intrinsic+json": {
              "type": "string"
            }
          },
          "metadata": {},
          "execution_count": 3
        }
      ],
      "source": [
        "'''!pip install python-dotenv'''"
      ]
    },
    {
      "cell_type": "code",
      "execution_count": null,
      "metadata": {
        "id": "V_wnINJpzE9l"
      },
      "outputs": [],
      "source": [
        "# pyrogram.__version__"
      ]
    },
    {
      "cell_type": "markdown",
      "metadata": {
        "id": "15n3YtzuzE9l"
      },
      "source": [
        "### Подготовим api_id и api_hash"
      ]
    },
    {
      "cell_type": "code",
      "execution_count": null,
      "metadata": {
        "colab": {
          "base_uri": "https://localhost:8080/",
          "height": 35
        },
        "id": "QrVHBTP-zE9m",
        "outputId": "5a5d65f3-eed9-4958-e804-cd120b980e39"
      },
      "outputs": [
        {
          "output_type": "execute_result",
          "data": {
            "text/plain": [
              "\"# ключи App api_id и App api_hash прописаны в файле\\ndotenv_path = os.path.join('dot.env')\\nif os.path.exists(dotenv_path):\\n    load_dotenv(dotenv_path)\""
            ],
            "application/vnd.google.colaboratory.intrinsic+json": {
              "type": "string"
            }
          },
          "metadata": {},
          "execution_count": 5
        }
      ],
      "source": [
        "'''# ключи App api_id и App api_hash прописаны в файле\n",
        "dotenv_path = os.path.join('dot.env')\n",
        "if os.path.exists(dotenv_path):\n",
        "    load_dotenv(dotenv_path)'''"
      ]
    },
    {
      "cell_type": "code",
      "execution_count": null,
      "metadata": {
        "colab": {
          "base_uri": "https://localhost:8080/",
          "height": 35
        },
        "id": "S8ZBh6YWzE9m",
        "outputId": "1a6bb053-5557-4cb8-f1dd-23f71a9a27c2"
      },
      "outputs": [
        {
          "output_type": "execute_result",
          "data": {
            "text/plain": [
              "\"os.environ['DEMO']\""
            ],
            "application/vnd.google.colaboratory.intrinsic+json": {
              "type": "string"
            }
          },
          "metadata": {},
          "execution_count": 6
        }
      ],
      "source": [
        "'''os.environ['DEMO']'''"
      ]
    },
    {
      "cell_type": "code",
      "execution_count": null,
      "metadata": {
        "colab": {
          "base_uri": "https://localhost:8080/",
          "height": 35
        },
        "id": "TVkAebiMzE9n",
        "outputId": "699391e0-98af-4f2f-86dd-5ad02e0ea1db"
      },
      "outputs": [
        {
          "output_type": "execute_result",
          "data": {
            "text/plain": [
              "\"API_ID = os.environ['API_ID']\\nAPI_HASH = os.environ['API_HASH']\""
            ],
            "application/vnd.google.colaboratory.intrinsic+json": {
              "type": "string"
            }
          },
          "metadata": {},
          "execution_count": 7
        }
      ],
      "source": [
        "'''API_ID = os.environ['API_ID']\n",
        "API_HASH = os.environ['API_HASH']'''"
      ]
    },
    {
      "cell_type": "code",
      "execution_count": null,
      "metadata": {
        "id": "IdQIjIgVzE9n",
        "outputId": "c6ef50b1-331e-4683-91fe-de09b51aaa0f",
        "colab": {
          "base_uri": "https://localhost:8080/",
          "height": 87
        }
      },
      "outputs": [
        {
          "output_type": "execute_result",
          "data": {
            "text/plain": [
              "'# Первый раз запускаем из терминала чтобы получился файл my_account.session\\n# Файл авторизации и тестирования pyro_auth.py \\n\\npath = os.path.dirname(os.path.abspath(\\'C:/Users/julij/Desktop/telegram/pyro_auth.py\\')) \\n\\ndotenv_path = os.path.join(path + \\'/dot.env\\') # прибавляем к пути файл с данными для авторизации\\nif os.path.exists(dotenv_path): # проверяем существует ли файл\\n    load_dotenv(dotenv_path) # загружаем файл\\n    \\nAPI_ID = os.environ[\\'API_ID\\'] # из окружения достаем API ID\\nAPI_HASH = os.environ[\\'API_HASH\\'] # и API HASH\\nasync with Client(\"my_account\", API_ID, API_HASH) as app: # задаем название сессии, появится файлик\\n    await app.send_message(\"me\", \"Авторизация прошла успешно\") # отправим себе сообщение\\n'"
            ],
            "application/vnd.google.colaboratory.intrinsic+json": {
              "type": "string"
            }
          },
          "metadata": {},
          "execution_count": 8
        }
      ],
      "source": [
        "'''# Первый раз запускаем из терминала чтобы получился файл my_account.session\n",
        "# Файл авторизации и тестирования pyro_auth.py \n",
        "\n",
        "path = os.path.dirname(os.path.abspath('C:/Users/julij/Desktop/telegram/pyro_auth.py')) \n",
        "\n",
        "dotenv_path = os.path.join(path + '/dot.env') # прибавляем к пути файл с данными для авторизации\n",
        "if os.path.exists(dotenv_path): # проверяем существует ли файл\n",
        "    load_dotenv(dotenv_path) # загружаем файл\n",
        "    \n",
        "API_ID = os.environ['API_ID'] # из окружения достаем API ID\n",
        "API_HASH = os.environ['API_HASH'] # и API HASH\n",
        "async with Client(\"my_account\", API_ID, API_HASH) as app: # задаем название сессии, появится файлик\n",
        "    await app.send_message(\"me\", \"Авторизация прошла успешно\") # отправим себе сообщение\n",
        "'''"
      ]
    },
    {
      "cell_type": "code",
      "execution_count": null,
      "metadata": {
        "id": "okWNQcdOzE9o",
        "colab": {
          "base_uri": "https://localhost:8080/",
          "height": 53
        },
        "outputId": "1b2ae877-6548-4785-cb30-33ad5e1d7614"
      },
      "outputs": [
        {
          "output_type": "execute_result",
          "data": {
            "text/plain": [
              "\"# Файл выгрузки (pyro_run.py)\\n# должна быть прописана переменная targets\\n\\npath = os.path.dirname(os.path.abspath('C:/Users/julij/Desktop/telegram/pyro_auth.py'))\\n\\ndotenv_path = os.path.join(path + '/dot.env') #\\nif os.path.exists(dotenv_path):\\n    load_dotenv(dotenv_path)\\n    \\n\\nAPI_ID = os.environ['API_ID']\\nAPI_HASH = os.environ['API_HASH']\""
            ],
            "application/vnd.google.colaboratory.intrinsic+json": {
              "type": "string"
            }
          },
          "metadata": {},
          "execution_count": 9
        }
      ],
      "source": [
        "'''# Файл выгрузки (pyro_run.py)\n",
        "# должна быть прописана переменная targets\n",
        "\n",
        "path = os.path.dirname(os.path.abspath('C:/Users/julij/Desktop/telegram/pyro_auth.py'))\n",
        "\n",
        "dotenv_path = os.path.join(path + '/dot.env') #\n",
        "if os.path.exists(dotenv_path):\n",
        "    load_dotenv(dotenv_path)\n",
        "    \n",
        "\n",
        "API_ID = os.environ['API_ID']\n",
        "API_HASH = os.environ['API_HASH']'''"
      ]
    },
    {
      "cell_type": "code",
      "execution_count": null,
      "metadata": {
        "id": "bJrX-KGmzE9o",
        "colab": {
          "base_uri": "https://localhost:8080/",
          "height": 35
        },
        "outputId": "31a8c35b-31a2-4031-eaa4-80ce1f58191f"
      },
      "outputs": [
        {
          "output_type": "execute_result",
          "data": {
            "text/plain": [
              "'# пустой список где храним сообщения \\nall_messages = []'"
            ],
            "application/vnd.google.colaboratory.intrinsic+json": {
              "type": "string"
            }
          },
          "metadata": {},
          "execution_count": 10
        }
      ],
      "source": [
        "'''# пустой список где храним сообщения \n",
        "all_messages = []'''"
      ]
    },
    {
      "cell_type": "code",
      "execution_count": null,
      "metadata": {
        "id": "4jYlqdTDzE9p",
        "colab": {
          "base_uri": "https://localhost:8080/",
          "height": 35
        },
        "outputId": "7818ecee-a902-41d3-f65f-74bf8a61545f"
      },
      "outputs": [
        {
          "output_type": "execute_result",
          "data": {
            "text/plain": [
              "\"targets = (['datajobschannel','biheadhunter','analysts_hunter','data_hr',\\n            'datajob', 'analyst_job','foranalysts', 'datasciencejobs'])\""
            ],
            "application/vnd.google.colaboratory.intrinsic+json": {
              "type": "string"
            }
          },
          "metadata": {},
          "execution_count": 11
        }
      ],
      "source": [
        "'''targets = (['datajobschannel','biheadhunter','analysts_hunter','data_hr',\n",
        "            'datajob', 'analyst_job','foranalysts', 'datasciencejobs'])'''"
      ]
    },
    {
      "cell_type": "code",
      "execution_count": null,
      "metadata": {
        "id": "GJThIo2QzE9p",
        "outputId": "09418482-58ab-447c-e048-0d00a0123784",
        "colab": {
          "base_uri": "https://localhost:8080/",
          "height": 53
        }
      },
      "outputs": [
        {
          "output_type": "execute_result",
          "data": {
            "text/plain": [
              "'# просмотр \\nasync with Client(\"my_account\", API_ID, API_HASH) as app:\\n    for target in targets:\\n        async for message in app.get_chat_history(target, limit=1):\\n            print(message.text) \\n            print(message)'"
            ],
            "application/vnd.google.colaboratory.intrinsic+json": {
              "type": "string"
            }
          },
          "metadata": {},
          "execution_count": 12
        }
      ],
      "source": [
        "'''# просмотр \n",
        "async with Client(\"my_account\", API_ID, API_HASH) as app:\n",
        "    for target in targets:\n",
        "        async for message in app.get_chat_history(target, limit=1):\n",
        "            print(message.text) \n",
        "            print(message)'''"
      ]
    },
    {
      "cell_type": "code",
      "execution_count": null,
      "metadata": {
        "id": "8kyN6BqvzE9p",
        "colab": {
          "base_uri": "https://localhost:8080/",
          "height": 35
        },
        "outputId": "a9da06f3-967c-45d2-8acf-e9e0919416e2"
      },
      "outputs": [
        {
          "output_type": "execute_result",
          "data": {
            "text/plain": [
              "'# загрузка данных\\nfrom tqdm.notebook import tqdm'"
            ],
            "application/vnd.google.colaboratory.intrinsic+json": {
              "type": "string"
            }
          },
          "metadata": {},
          "execution_count": 13
        }
      ],
      "source": [
        "'''# загрузка данных\n",
        "from tqdm.notebook import tqdm'''"
      ]
    },
    {
      "cell_type": "code",
      "execution_count": null,
      "metadata": {
        "colab": {
          "base_uri": "https://localhost:8080/",
          "height": 70
        },
        "id": "EoZA1C4KzE9q",
        "outputId": "6fdb20fb-66b4-421c-8e61-3c2e1ff287fd"
      },
      "outputs": [
        {
          "output_type": "execute_result",
          "data": {
            "text/plain": [
              "'# Основная (рабочая) часть кода выгрузки\\n\\ntry: \\n    async with Client(\"my_account\", API_ID, API_HASH) as app:\\n        for target in tqdm(targets):\\n            async for message in app.get_chat_history(target, limit=15000):\\n                all_messages.append([message.sender_chat,message.id,message.date,message.text,message.entities])\\n                \\n    df = pd.DataFrame(all_messages)\\n    df.columns = [\"chat\", \"message_id\", \"date\", \"text\", \"entities\"]\\n    df.to_csv(path + \\'/telegram.csv\\', index=False)\\n    print(\\'Success: \\', path + \\'/telegram.csv\\')\\nexcept Exception as e:\\n    print(\\'Error: \\', e)            \\n            '"
            ],
            "application/vnd.google.colaboratory.intrinsic+json": {
              "type": "string"
            }
          },
          "metadata": {},
          "execution_count": 14
        }
      ],
      "source": [
        "'''# Основная (рабочая) часть кода выгрузки\n",
        "\n",
        "try: \n",
        "    async with Client(\"my_account\", API_ID, API_HASH) as app:\n",
        "        for target in tqdm(targets):\n",
        "            async for message in app.get_chat_history(target, limit=15000):\n",
        "                all_messages.append([message.sender_chat,message.id,message.date,message.text,message.entities])\n",
        "                \n",
        "    df = pd.DataFrame(all_messages)\n",
        "    df.columns = [\"chat\", \"message_id\", \"date\", \"text\", \"entities\"]\n",
        "    df.to_csv(path + '/telegram.csv', index=False)\n",
        "    print('Success: ', path + '/telegram.csv')\n",
        "except Exception as e:\n",
        "    print('Error: ', e)            \n",
        "            '''"
      ]
    },
    {
      "cell_type": "markdown",
      "metadata": {
        "id": "i0DkBhpfzE9q"
      },
      "source": [
        "# Выгрузка файла"
      ]
    },
    {
      "cell_type": "code",
      "source": [
        "from google.colab import drive\n",
        "drive.mount ('/content/drive/')"
      ],
      "metadata": {
        "colab": {
          "base_uri": "https://localhost:8080/"
        },
        "id": "nNj6OANGDr1b",
        "outputId": "37cf7716-e014-46c5-b696-7fb281936fad"
      },
      "execution_count": null,
      "outputs": [
        {
          "output_type": "stream",
          "name": "stdout",
          "text": [
            "Mounted at /content/drive/\n"
          ]
        }
      ]
    },
    {
      "cell_type": "code",
      "execution_count": null,
      "metadata": {
        "id": "tgbtQA0HzE9q"
      },
      "outputs": [],
      "source": [
        "df = pd.read_csv('/content/drive/My Drive/Colab Notebooks/pars/telegram.csv')"
      ]
    },
    {
      "cell_type": "code",
      "execution_count": null,
      "metadata": {
        "id": "akxLCha3zE9r",
        "outputId": "9f216b36-3b70-4927-91c2-0ff466a0861a",
        "colab": {
          "base_uri": "https://localhost:8080/",
          "height": 205
        }
      },
      "outputs": [
        {
          "output_type": "execute_result",
          "data": {
            "text/plain": [
              "                                                chat  message_id  \\\n",
              "0  {\\n    \"_\": \"Chat\",\\n    \"id\": -1001269377842,...        1668   \n",
              "1  {\\n    \"_\": \"Chat\",\\n    \"id\": -1001269377842,...        1667   \n",
              "2  {\\n    \"_\": \"Chat\",\\n    \"id\": -1001269377842,...        1666   \n",
              "3  {\\n    \"_\": \"Chat\",\\n    \"id\": -1001269377842,...        1665   \n",
              "4  {\\n    \"_\": \"Chat\",\\n    \"id\": -1001269377842,...        1664   \n",
              "\n",
              "                  date                                               text  \\\n",
              "0  2022-09-09 13:46:35  #вакансия #vacancy #job #relocate #data #azure...   \n",
              "1  2022-09-08 14:04:20  Привет! Нахожусь в поиске DBA в компанию Новак...   \n",
              "2  2022-09-08 10:22:12  #удаленка #системный_аналитик #вакансия  \\n \\n...   \n",
              "3  2022-09-07 19:36:26  Сейчас мы в поиске талантливого Data Analyst в...   \n",
              "4  2022-09-07 18:09:06  На работу в крупную международную консалтингов...   \n",
              "\n",
              "                                            entities  \n",
              "0  [\\n    {\\n        \"_\": \"MessageEntity\",\\n     ...  \n",
              "1  [\\n    {\\n        \"_\": \"MessageEntity\",\\n     ...  \n",
              "2  [\\n    {\\n        \"_\": \"MessageEntity\",\\n     ...  \n",
              "3  [\\n    {\\n        \"_\": \"MessageEntity\",\\n     ...  \n",
              "4  [\\n    {\\n        \"_\": \"MessageEntity\",\\n     ...  "
            ],
            "text/html": [
              "\n",
              "  <div id=\"df-4cabd820-79ed-4a62-8fae-0096ceec78d7\">\n",
              "    <div class=\"colab-df-container\">\n",
              "      <div>\n",
              "<style scoped>\n",
              "    .dataframe tbody tr th:only-of-type {\n",
              "        vertical-align: middle;\n",
              "    }\n",
              "\n",
              "    .dataframe tbody tr th {\n",
              "        vertical-align: top;\n",
              "    }\n",
              "\n",
              "    .dataframe thead th {\n",
              "        text-align: right;\n",
              "    }\n",
              "</style>\n",
              "<table border=\"1\" class=\"dataframe\">\n",
              "  <thead>\n",
              "    <tr style=\"text-align: right;\">\n",
              "      <th></th>\n",
              "      <th>chat</th>\n",
              "      <th>message_id</th>\n",
              "      <th>date</th>\n",
              "      <th>text</th>\n",
              "      <th>entities</th>\n",
              "    </tr>\n",
              "  </thead>\n",
              "  <tbody>\n",
              "    <tr>\n",
              "      <th>0</th>\n",
              "      <td>{\\n    \"_\": \"Chat\",\\n    \"id\": -1001269377842,...</td>\n",
              "      <td>1668</td>\n",
              "      <td>2022-09-09 13:46:35</td>\n",
              "      <td>#вакансия #vacancy #job #relocate #data #azure...</td>\n",
              "      <td>[\\n    {\\n        \"_\": \"MessageEntity\",\\n     ...</td>\n",
              "    </tr>\n",
              "    <tr>\n",
              "      <th>1</th>\n",
              "      <td>{\\n    \"_\": \"Chat\",\\n    \"id\": -1001269377842,...</td>\n",
              "      <td>1667</td>\n",
              "      <td>2022-09-08 14:04:20</td>\n",
              "      <td>Привет! Нахожусь в поиске DBA в компанию Новак...</td>\n",
              "      <td>[\\n    {\\n        \"_\": \"MessageEntity\",\\n     ...</td>\n",
              "    </tr>\n",
              "    <tr>\n",
              "      <th>2</th>\n",
              "      <td>{\\n    \"_\": \"Chat\",\\n    \"id\": -1001269377842,...</td>\n",
              "      <td>1666</td>\n",
              "      <td>2022-09-08 10:22:12</td>\n",
              "      <td>#удаленка #системный_аналитик #вакансия  \\n \\n...</td>\n",
              "      <td>[\\n    {\\n        \"_\": \"MessageEntity\",\\n     ...</td>\n",
              "    </tr>\n",
              "    <tr>\n",
              "      <th>3</th>\n",
              "      <td>{\\n    \"_\": \"Chat\",\\n    \"id\": -1001269377842,...</td>\n",
              "      <td>1665</td>\n",
              "      <td>2022-09-07 19:36:26</td>\n",
              "      <td>Сейчас мы в поиске талантливого Data Analyst в...</td>\n",
              "      <td>[\\n    {\\n        \"_\": \"MessageEntity\",\\n     ...</td>\n",
              "    </tr>\n",
              "    <tr>\n",
              "      <th>4</th>\n",
              "      <td>{\\n    \"_\": \"Chat\",\\n    \"id\": -1001269377842,...</td>\n",
              "      <td>1664</td>\n",
              "      <td>2022-09-07 18:09:06</td>\n",
              "      <td>На работу в крупную международную консалтингов...</td>\n",
              "      <td>[\\n    {\\n        \"_\": \"MessageEntity\",\\n     ...</td>\n",
              "    </tr>\n",
              "  </tbody>\n",
              "</table>\n",
              "</div>\n",
              "      <button class=\"colab-df-convert\" onclick=\"convertToInteractive('df-4cabd820-79ed-4a62-8fae-0096ceec78d7')\"\n",
              "              title=\"Convert this dataframe to an interactive table.\"\n",
              "              style=\"display:none;\">\n",
              "        \n",
              "  <svg xmlns=\"http://www.w3.org/2000/svg\" height=\"24px\"viewBox=\"0 0 24 24\"\n",
              "       width=\"24px\">\n",
              "    <path d=\"M0 0h24v24H0V0z\" fill=\"none\"/>\n",
              "    <path d=\"M18.56 5.44l.94 2.06.94-2.06 2.06-.94-2.06-.94-.94-2.06-.94 2.06-2.06.94zm-11 1L8.5 8.5l.94-2.06 2.06-.94-2.06-.94L8.5 2.5l-.94 2.06-2.06.94zm10 10l.94 2.06.94-2.06 2.06-.94-2.06-.94-.94-2.06-.94 2.06-2.06.94z\"/><path d=\"M17.41 7.96l-1.37-1.37c-.4-.4-.92-.59-1.43-.59-.52 0-1.04.2-1.43.59L10.3 9.45l-7.72 7.72c-.78.78-.78 2.05 0 2.83L4 21.41c.39.39.9.59 1.41.59.51 0 1.02-.2 1.41-.59l7.78-7.78 2.81-2.81c.8-.78.8-2.07 0-2.86zM5.41 20L4 18.59l7.72-7.72 1.47 1.35L5.41 20z\"/>\n",
              "  </svg>\n",
              "      </button>\n",
              "      \n",
              "  <style>\n",
              "    .colab-df-container {\n",
              "      display:flex;\n",
              "      flex-wrap:wrap;\n",
              "      gap: 12px;\n",
              "    }\n",
              "\n",
              "    .colab-df-convert {\n",
              "      background-color: #E8F0FE;\n",
              "      border: none;\n",
              "      border-radius: 50%;\n",
              "      cursor: pointer;\n",
              "      display: none;\n",
              "      fill: #1967D2;\n",
              "      height: 32px;\n",
              "      padding: 0 0 0 0;\n",
              "      width: 32px;\n",
              "    }\n",
              "\n",
              "    .colab-df-convert:hover {\n",
              "      background-color: #E2EBFA;\n",
              "      box-shadow: 0px 1px 2px rgba(60, 64, 67, 0.3), 0px 1px 3px 1px rgba(60, 64, 67, 0.15);\n",
              "      fill: #174EA6;\n",
              "    }\n",
              "\n",
              "    [theme=dark] .colab-df-convert {\n",
              "      background-color: #3B4455;\n",
              "      fill: #D2E3FC;\n",
              "    }\n",
              "\n",
              "    [theme=dark] .colab-df-convert:hover {\n",
              "      background-color: #434B5C;\n",
              "      box-shadow: 0px 1px 3px 1px rgba(0, 0, 0, 0.15);\n",
              "      filter: drop-shadow(0px 1px 2px rgba(0, 0, 0, 0.3));\n",
              "      fill: #FFFFFF;\n",
              "    }\n",
              "  </style>\n",
              "\n",
              "      <script>\n",
              "        const buttonEl =\n",
              "          document.querySelector('#df-4cabd820-79ed-4a62-8fae-0096ceec78d7 button.colab-df-convert');\n",
              "        buttonEl.style.display =\n",
              "          google.colab.kernel.accessAllowed ? 'block' : 'none';\n",
              "\n",
              "        async function convertToInteractive(key) {\n",
              "          const element = document.querySelector('#df-4cabd820-79ed-4a62-8fae-0096ceec78d7');\n",
              "          const dataTable =\n",
              "            await google.colab.kernel.invokeFunction('convertToInteractive',\n",
              "                                                     [key], {});\n",
              "          if (!dataTable) return;\n",
              "\n",
              "          const docLinkHtml = 'Like what you see? Visit the ' +\n",
              "            '<a target=\"_blank\" href=https://colab.research.google.com/notebooks/data_table.ipynb>data table notebook</a>'\n",
              "            + ' to learn more about interactive tables.';\n",
              "          element.innerHTML = '';\n",
              "          dataTable['output_type'] = 'display_data';\n",
              "          await google.colab.output.renderOutput(dataTable, element);\n",
              "          const docLink = document.createElement('div');\n",
              "          docLink.innerHTML = docLinkHtml;\n",
              "          element.appendChild(docLink);\n",
              "        }\n",
              "      </script>\n",
              "    </div>\n",
              "  </div>\n",
              "  "
            ]
          },
          "metadata": {},
          "execution_count": 17
        }
      ],
      "source": [
        "df.head()"
      ]
    },
    {
      "cell_type": "code",
      "source": [
        "df.info()"
      ],
      "metadata": {
        "colab": {
          "base_uri": "https://localhost:8080/"
        },
        "id": "81UxiMugPsta",
        "outputId": "4ab0e05a-41a4-45ff-e450-e9f4086a9d3b"
      },
      "execution_count": null,
      "outputs": [
        {
          "output_type": "stream",
          "name": "stdout",
          "text": [
            "<class 'pandas.core.frame.DataFrame'>\n",
            "RangeIndex: 34780 entries, 0 to 34779\n",
            "Data columns (total 5 columns):\n",
            " #   Column      Non-Null Count  Dtype \n",
            "---  ------      --------------  ----- \n",
            " 0   chat        4795 non-null   object\n",
            " 1   message_id  34780 non-null  int64 \n",
            " 2   date        34780 non-null  object\n",
            " 3   text        31407 non-null  object\n",
            " 4   entities    18026 non-null  object\n",
            "dtypes: int64(1), object(4)\n",
            "memory usage: 1.3+ MB\n"
          ]
        }
      ]
    },
    {
      "cell_type": "markdown",
      "source": [
        "# Предобработка данных\n",
        "\n",
        "- исследовать пропущенные значения\n",
        "- исследовать соответствие типов данных и привести к нужному\n",
        "- проверка наименований колонок и привести к корректную форму при необходимости\n",
        "- привести данные к нижнему регистру\n",
        "- удалить дубликаты.\n",
        "- удалить пропуски.\n",
        "- сортировать по дате.\n",
        "\n",
        "Далее, определиться: использовать лемматизацию текста и выделять леммы для поиска уникальных ключевых слов, либо использовать регулярные выражения для поиска однокоренных слов.\n",
        "\n",
        "Объединить вакансии в две категории Data Scientist и Data Analytist.\n",
        "- Создать столбец с уровнем образования.\n",
        "- Создать столбец с требованиями по уровню навыков - junior, middle, senior.\n",
        "- Создать столбец по условию работы - удалённо или офис."
      ],
      "metadata": {
        "id": "M8UmyCf7Ezhs"
      }
    },
    {
      "cell_type": "code",
      "source": [
        "df = df.dropna().reset_index(drop=True) # сбросим индекс"
      ],
      "metadata": {
        "id": "9Mxz9j--FaEy"
      },
      "execution_count": null,
      "outputs": []
    },
    {
      "cell_type": "code",
      "source": [
        "# исследовать пропущенные значения\n",
        "\n",
        "df.isna().sum()"
      ],
      "metadata": {
        "colab": {
          "base_uri": "https://localhost:8080/"
        },
        "id": "Zqwuv36zFPcQ",
        "outputId": "4a57ab1b-6d42-48ac-8ec1-9c327905a674"
      },
      "execution_count": null,
      "outputs": [
        {
          "output_type": "execute_result",
          "data": {
            "text/plain": [
              "chat          0\n",
              "message_id    0\n",
              "date          0\n",
              "text          0\n",
              "entities      0\n",
              "dtype: int64"
            ]
          },
          "metadata": {},
          "execution_count": 20
        }
      ]
    },
    {
      "cell_type": "code",
      "source": [
        "# исследовать соответствие типов данных и привести к нужному\n",
        "\n",
        "df.date = pd.to_datetime(df['date'])\n",
        "df.info()"
      ],
      "metadata": {
        "colab": {
          "base_uri": "https://localhost:8080/"
        },
        "id": "Aq1_6w7vFVZN",
        "outputId": "4cdef618-e33b-45e3-d1b7-e9f223661268"
      },
      "execution_count": null,
      "outputs": [
        {
          "output_type": "stream",
          "name": "stdout",
          "text": [
            "<class 'pandas.core.frame.DataFrame'>\n",
            "RangeIndex: 4261 entries, 0 to 4260\n",
            "Data columns (total 5 columns):\n",
            " #   Column      Non-Null Count  Dtype         \n",
            "---  ------      --------------  -----         \n",
            " 0   chat        4261 non-null   object        \n",
            " 1   message_id  4261 non-null   int64         \n",
            " 2   date        4261 non-null   datetime64[ns]\n",
            " 3   text        4261 non-null   object        \n",
            " 4   entities    4261 non-null   object        \n",
            "dtypes: datetime64[ns](1), int64(1), object(3)\n",
            "memory usage: 166.6+ KB\n"
          ]
        }
      ]
    },
    {
      "cell_type": "code",
      "execution_count": null,
      "metadata": {
        "id": "4tiWVLwIzE9r",
        "outputId": "582fc75f-37ad-49e7-a95a-039fae2a4dcd",
        "colab": {
          "base_uri": "https://localhost:8080/"
        }
      },
      "outputs": [
        {
          "output_type": "stream",
          "name": "stdout",
          "text": [
            "вакансия: developer bi\n",
            "компания: гк родина - застройщик\n",
            "формат: офис, после исп. срока гибрид г. москва\n",
            "🔌200 000 - 250 000 на руки\n",
            "\n",
            "о компании: гк родина- инвестиционно-девелоперская компания, группа осуществляет полный цикл девелопмента и оказывает весь спектр услуг по эффективному управлению проектами. компания создала свой формат развития городских территорий «инновационные жилые кластеры», в котором комфортное и безопасное городское жилье объединяется со значительным количеством инфраструктуры: спортивной, образовательной и культурной.\n",
            "\n",
            "обязанности:\n",
            "\n",
            "▪️анализ потребностей всех заинтересованных сторон в нужных для отчета показателях\n",
            "▪️составление единого постоянно обновляемого тз и всех требований\n",
            "▪️разработка нужных метрик согласно тз\n",
            "▪️постановка задач подрядчикам и контроль их исполнения\n",
            "▪️постоянный поиск возможностей для оптимизации и детализации отчета\n",
            "▪️взаимодействие с подрядчиками по ведению бд\n",
            "\n",
            "ждем от кандидата:\n",
            "\n",
            "🔹опыт разработки на dax и sql от 2х лет;\n",
            "🔹релевантный опыт в аналитике;\n",
            "🔹технический английский язык.\n",
            "\n",
            "условия:\n",
            "\n",
            "▪️удобное расположение офиса в центре, в шаговой доступности м. чеховская, пушкинская, тверская, маяковская\n",
            "▪️гибридный график работы (после испытательного срока)\n",
            "\n",
            "✏️@emyagkova \n",
            "\n",
            "#вакансия #fulltime #работа #москва #dax #sql #bi\n"
          ]
        }
      ],
      "source": [
        "# привести данные к нижнему регистру\n",
        "\n",
        "print(df.iloc[10]['text'].lower())"
      ]
    },
    {
      "cell_type": "code",
      "source": [
        "# удалить дубликаты.\n",
        "\n",
        "df.duplicated().sum()"
      ],
      "metadata": {
        "colab": {
          "base_uri": "https://localhost:8080/"
        },
        "id": "XWoscoa0Fr0S",
        "outputId": "8545f62b-11f2-48f7-a4b7-ca058998a1f4"
      },
      "execution_count": null,
      "outputs": [
        {
          "output_type": "execute_result",
          "data": {
            "text/plain": [
              "0"
            ]
          },
          "metadata": {},
          "execution_count": 23
        }
      ]
    },
    {
      "cell_type": "code",
      "source": [
        "# выделим столбец с годом\n",
        "\n",
        "df['year'] = (df['date']).dt.year\n",
        "df.head(2)"
      ],
      "metadata": {
        "colab": {
          "base_uri": "https://localhost:8080/",
          "height": 112
        },
        "id": "24bZIo4WFrxt",
        "outputId": "49a560b2-c984-4f57-d72e-5f740865a144"
      },
      "execution_count": null,
      "outputs": [
        {
          "output_type": "execute_result",
          "data": {
            "text/plain": [
              "                                                chat  message_id  \\\n",
              "0  {\\n    \"_\": \"Chat\",\\n    \"id\": -1001269377842,...        1668   \n",
              "1  {\\n    \"_\": \"Chat\",\\n    \"id\": -1001269377842,...        1667   \n",
              "\n",
              "                 date                                               text  \\\n",
              "0 2022-09-09 13:46:35  #вакансия #vacancy #job #relocate #data #azure...   \n",
              "1 2022-09-08 14:04:20  Привет! Нахожусь в поиске DBA в компанию Новак...   \n",
              "\n",
              "                                            entities  year  \n",
              "0  [\\n    {\\n        \"_\": \"MessageEntity\",\\n     ...  2022  \n",
              "1  [\\n    {\\n        \"_\": \"MessageEntity\",\\n     ...  2022  "
            ],
            "text/html": [
              "\n",
              "  <div id=\"df-73a53e0c-2319-478b-8efd-a9f01a782ec0\">\n",
              "    <div class=\"colab-df-container\">\n",
              "      <div>\n",
              "<style scoped>\n",
              "    .dataframe tbody tr th:only-of-type {\n",
              "        vertical-align: middle;\n",
              "    }\n",
              "\n",
              "    .dataframe tbody tr th {\n",
              "        vertical-align: top;\n",
              "    }\n",
              "\n",
              "    .dataframe thead th {\n",
              "        text-align: right;\n",
              "    }\n",
              "</style>\n",
              "<table border=\"1\" class=\"dataframe\">\n",
              "  <thead>\n",
              "    <tr style=\"text-align: right;\">\n",
              "      <th></th>\n",
              "      <th>chat</th>\n",
              "      <th>message_id</th>\n",
              "      <th>date</th>\n",
              "      <th>text</th>\n",
              "      <th>entities</th>\n",
              "      <th>year</th>\n",
              "    </tr>\n",
              "  </thead>\n",
              "  <tbody>\n",
              "    <tr>\n",
              "      <th>0</th>\n",
              "      <td>{\\n    \"_\": \"Chat\",\\n    \"id\": -1001269377842,...</td>\n",
              "      <td>1668</td>\n",
              "      <td>2022-09-09 13:46:35</td>\n",
              "      <td>#вакансия #vacancy #job #relocate #data #azure...</td>\n",
              "      <td>[\\n    {\\n        \"_\": \"MessageEntity\",\\n     ...</td>\n",
              "      <td>2022</td>\n",
              "    </tr>\n",
              "    <tr>\n",
              "      <th>1</th>\n",
              "      <td>{\\n    \"_\": \"Chat\",\\n    \"id\": -1001269377842,...</td>\n",
              "      <td>1667</td>\n",
              "      <td>2022-09-08 14:04:20</td>\n",
              "      <td>Привет! Нахожусь в поиске DBA в компанию Новак...</td>\n",
              "      <td>[\\n    {\\n        \"_\": \"MessageEntity\",\\n     ...</td>\n",
              "      <td>2022</td>\n",
              "    </tr>\n",
              "  </tbody>\n",
              "</table>\n",
              "</div>\n",
              "      <button class=\"colab-df-convert\" onclick=\"convertToInteractive('df-73a53e0c-2319-478b-8efd-a9f01a782ec0')\"\n",
              "              title=\"Convert this dataframe to an interactive table.\"\n",
              "              style=\"display:none;\">\n",
              "        \n",
              "  <svg xmlns=\"http://www.w3.org/2000/svg\" height=\"24px\"viewBox=\"0 0 24 24\"\n",
              "       width=\"24px\">\n",
              "    <path d=\"M0 0h24v24H0V0z\" fill=\"none\"/>\n",
              "    <path d=\"M18.56 5.44l.94 2.06.94-2.06 2.06-.94-2.06-.94-.94-2.06-.94 2.06-2.06.94zm-11 1L8.5 8.5l.94-2.06 2.06-.94-2.06-.94L8.5 2.5l-.94 2.06-2.06.94zm10 10l.94 2.06.94-2.06 2.06-.94-2.06-.94-.94-2.06-.94 2.06-2.06.94z\"/><path d=\"M17.41 7.96l-1.37-1.37c-.4-.4-.92-.59-1.43-.59-.52 0-1.04.2-1.43.59L10.3 9.45l-7.72 7.72c-.78.78-.78 2.05 0 2.83L4 21.41c.39.39.9.59 1.41.59.51 0 1.02-.2 1.41-.59l7.78-7.78 2.81-2.81c.8-.78.8-2.07 0-2.86zM5.41 20L4 18.59l7.72-7.72 1.47 1.35L5.41 20z\"/>\n",
              "  </svg>\n",
              "      </button>\n",
              "      \n",
              "  <style>\n",
              "    .colab-df-container {\n",
              "      display:flex;\n",
              "      flex-wrap:wrap;\n",
              "      gap: 12px;\n",
              "    }\n",
              "\n",
              "    .colab-df-convert {\n",
              "      background-color: #E8F0FE;\n",
              "      border: none;\n",
              "      border-radius: 50%;\n",
              "      cursor: pointer;\n",
              "      display: none;\n",
              "      fill: #1967D2;\n",
              "      height: 32px;\n",
              "      padding: 0 0 0 0;\n",
              "      width: 32px;\n",
              "    }\n",
              "\n",
              "    .colab-df-convert:hover {\n",
              "      background-color: #E2EBFA;\n",
              "      box-shadow: 0px 1px 2px rgba(60, 64, 67, 0.3), 0px 1px 3px 1px rgba(60, 64, 67, 0.15);\n",
              "      fill: #174EA6;\n",
              "    }\n",
              "\n",
              "    [theme=dark] .colab-df-convert {\n",
              "      background-color: #3B4455;\n",
              "      fill: #D2E3FC;\n",
              "    }\n",
              "\n",
              "    [theme=dark] .colab-df-convert:hover {\n",
              "      background-color: #434B5C;\n",
              "      box-shadow: 0px 1px 3px 1px rgba(0, 0, 0, 0.15);\n",
              "      filter: drop-shadow(0px 1px 2px rgba(0, 0, 0, 0.3));\n",
              "      fill: #FFFFFF;\n",
              "    }\n",
              "  </style>\n",
              "\n",
              "      <script>\n",
              "        const buttonEl =\n",
              "          document.querySelector('#df-73a53e0c-2319-478b-8efd-a9f01a782ec0 button.colab-df-convert');\n",
              "        buttonEl.style.display =\n",
              "          google.colab.kernel.accessAllowed ? 'block' : 'none';\n",
              "\n",
              "        async function convertToInteractive(key) {\n",
              "          const element = document.querySelector('#df-73a53e0c-2319-478b-8efd-a9f01a782ec0');\n",
              "          const dataTable =\n",
              "            await google.colab.kernel.invokeFunction('convertToInteractive',\n",
              "                                                     [key], {});\n",
              "          if (!dataTable) return;\n",
              "\n",
              "          const docLinkHtml = 'Like what you see? Visit the ' +\n",
              "            '<a target=\"_blank\" href=https://colab.research.google.com/notebooks/data_table.ipynb>data table notebook</a>'\n",
              "            + ' to learn more about interactive tables.';\n",
              "          element.innerHTML = '';\n",
              "          dataTable['output_type'] = 'display_data';\n",
              "          await google.colab.output.renderOutput(dataTable, element);\n",
              "          const docLink = document.createElement('div');\n",
              "          docLink.innerHTML = docLinkHtml;\n",
              "          element.appendChild(docLink);\n",
              "        }\n",
              "      </script>\n",
              "    </div>\n",
              "  </div>\n",
              "  "
            ]
          },
          "metadata": {},
          "execution_count": 24
        }
      ]
    },
    {
      "cell_type": "code",
      "source": [
        "df.info()"
      ],
      "metadata": {
        "colab": {
          "base_uri": "https://localhost:8080/"
        },
        "id": "VzAbgo-huKTA",
        "outputId": "0e82366f-e60e-4d04-b2af-090a3c918b63"
      },
      "execution_count": null,
      "outputs": [
        {
          "output_type": "stream",
          "name": "stdout",
          "text": [
            "<class 'pandas.core.frame.DataFrame'>\n",
            "RangeIndex: 4261 entries, 0 to 4260\n",
            "Data columns (total 6 columns):\n",
            " #   Column      Non-Null Count  Dtype         \n",
            "---  ------      --------------  -----         \n",
            " 0   chat        4261 non-null   object        \n",
            " 1   message_id  4261 non-null   int64         \n",
            " 2   date        4261 non-null   datetime64[ns]\n",
            " 3   text        4261 non-null   object        \n",
            " 4   entities    4261 non-null   object        \n",
            " 5   year        4261 non-null   int64         \n",
            "dtypes: datetime64[ns](1), int64(2), object(3)\n",
            "memory usage: 199.9+ KB\n"
          ]
        }
      ]
    },
    {
      "cell_type": "markdown",
      "source": [
        "### Объединить вакансии в две категории Data Scientist и Data Analytist.\n",
        "\n",
        "- Создать столбец с уровнем образования.\n",
        "- Создать столбец с требованиями по уровню навыков - junior, middle, senior.\n",
        "- Создать столбец по условию работы - удалённо или офис."
      ],
      "metadata": {
        "id": "u42MNj7tHF0I"
      }
    },
    {
      "cell_type": "markdown",
      "source": [
        "Let`s clean text and take 2022, 2021 years."
      ],
      "metadata": {
        "id": "MwCEPzNjZX-2"
      }
    },
    {
      "cell_type": "code",
      "source": [
        "# Ссылка\n",
        "link = r'<.*?>'\n",
        "\n",
        "# Номер телефона\n",
        "tel = r'([78][-\\( ]*\\d{3}[-\\) ]*\\d{2,3}[ -]*\\d{2,3}[ -]*\\d{2,3}|' + \\\n",
        "      r'\\(\\d{3}\\)\\d{2,3}[ -]*\\d{2,3}[ -]*\\d{2,3})'\n",
        "\n",
        "\n",
        "year_ranges = {str(k): '' for k in range(2001,2021,1)}\n",
        "time_ramges = {i:'' for i in ['5/2', '10-19', '11-18', '11-19', '9-18', 'c 11 до 19']}\n",
        "bonus = r'(\\+.{0,5}?\\d{2,3}.{0,25}?преми|\\+ \\d{2-3}-\\d{2,3}|\\+ \\d{2,3})'\n",
        "\n",
        "# Очищаем текст\n",
        "df['clean_text'] = df.text\n",
        "# Удаляем все ссылки из текста\n",
        "df['clean_text'] = df.clean_text.str.replace(link, ' ')\n",
        "# Удаляем телефоны из текста\n",
        "df['clean_text'] = df.clean_text.str.replace(tel, ' ')\n",
        "# Удаляем премии из текста\n",
        "df['clean_text'] = df.clean_text.str.replace(bonus, ' ')\n",
        "# Удаляем года из текста\n",
        "df['clean_text'] = df.clean_text.replace(year_ranges, regex=True)\n",
        "# Удаляем время из текста\n",
        "df['clean_text'] = df.clean_text.replace(time_ramges, regex=True)"
      ],
      "metadata": {
        "colab": {
          "base_uri": "https://localhost:8080/"
        },
        "id": "CEWtEmZAYO_Y",
        "outputId": "4c28cc3f-c700-4226-bfaa-d73c89bd80c2"
      },
      "execution_count": null,
      "outputs": [
        {
          "output_type": "stream",
          "name": "stderr",
          "text": [
            "/usr/local/lib/python3.7/dist-packages/ipykernel_launcher.py:16: FutureWarning: The default value of regex will change from True to False in a future version.\n",
            "  app.launch_new_instance()\n",
            "/usr/local/lib/python3.7/dist-packages/ipykernel_launcher.py:18: FutureWarning: The default value of regex will change from True to False in a future version.\n",
            "/usr/local/lib/python3.7/dist-packages/ipykernel_launcher.py:20: FutureWarning: The default value of regex will change from True to False in a future version.\n"
          ]
        }
      ]
    },
    {
      "cell_type": "code",
      "source": [
        "df.head()"
      ],
      "metadata": {
        "colab": {
          "base_uri": "https://localhost:8080/",
          "height": 205
        },
        "id": "aB84vDMHYO81",
        "outputId": "53ec8261-d427-43bf-f09d-d729922141ba"
      },
      "execution_count": null,
      "outputs": [
        {
          "output_type": "execute_result",
          "data": {
            "text/plain": [
              "                                                chat  message_id  \\\n",
              "0  {\\n    \"_\": \"Chat\",\\n    \"id\": -1001269377842,...        1668   \n",
              "1  {\\n    \"_\": \"Chat\",\\n    \"id\": -1001269377842,...        1667   \n",
              "2  {\\n    \"_\": \"Chat\",\\n    \"id\": -1001269377842,...        1666   \n",
              "3  {\\n    \"_\": \"Chat\",\\n    \"id\": -1001269377842,...        1665   \n",
              "4  {\\n    \"_\": \"Chat\",\\n    \"id\": -1001269377842,...        1664   \n",
              "\n",
              "                 date                                               text  \\\n",
              "0 2022-09-09 13:46:35  #вакансия #vacancy #job #relocate #data #azure...   \n",
              "1 2022-09-08 14:04:20  Привет! Нахожусь в поиске DBA в компанию Новак...   \n",
              "2 2022-09-08 10:22:12  #удаленка #системный_аналитик #вакансия  \\n \\n...   \n",
              "3 2022-09-07 19:36:26  Сейчас мы в поиске талантливого Data Analyst в...   \n",
              "4 2022-09-07 18:09:06  На работу в крупную международную консалтингов...   \n",
              "\n",
              "                                            entities  year  \\\n",
              "0  [\\n    {\\n        \"_\": \"MessageEntity\",\\n     ...  2022   \n",
              "1  [\\n    {\\n        \"_\": \"MessageEntity\",\\n     ...  2022   \n",
              "2  [\\n    {\\n        \"_\": \"MessageEntity\",\\n     ...  2022   \n",
              "3  [\\n    {\\n        \"_\": \"MessageEntity\",\\n     ...  2022   \n",
              "4  [\\n    {\\n        \"_\": \"MessageEntity\",\\n     ...  2022   \n",
              "\n",
              "                                          clean_text  \n",
              "0  #вакансия #vacancy #job #relocate #data #azure...  \n",
              "1  Привет! Нахожусь в поиске DBA в компанию Новак...  \n",
              "2  #удаленка #системный_аналитик #вакансия  \\n \\n...  \n",
              "3  Сейчас мы в поиске талантливого Data Analyst в...  \n",
              "4  На работу в крупную международную консалтингов...  "
            ],
            "text/html": [
              "\n",
              "  <div id=\"df-b15332ef-cd84-452d-896a-340befda0dd8\">\n",
              "    <div class=\"colab-df-container\">\n",
              "      <div>\n",
              "<style scoped>\n",
              "    .dataframe tbody tr th:only-of-type {\n",
              "        vertical-align: middle;\n",
              "    }\n",
              "\n",
              "    .dataframe tbody tr th {\n",
              "        vertical-align: top;\n",
              "    }\n",
              "\n",
              "    .dataframe thead th {\n",
              "        text-align: right;\n",
              "    }\n",
              "</style>\n",
              "<table border=\"1\" class=\"dataframe\">\n",
              "  <thead>\n",
              "    <tr style=\"text-align: right;\">\n",
              "      <th></th>\n",
              "      <th>chat</th>\n",
              "      <th>message_id</th>\n",
              "      <th>date</th>\n",
              "      <th>text</th>\n",
              "      <th>entities</th>\n",
              "      <th>year</th>\n",
              "      <th>clean_text</th>\n",
              "    </tr>\n",
              "  </thead>\n",
              "  <tbody>\n",
              "    <tr>\n",
              "      <th>0</th>\n",
              "      <td>{\\n    \"_\": \"Chat\",\\n    \"id\": -1001269377842,...</td>\n",
              "      <td>1668</td>\n",
              "      <td>2022-09-09 13:46:35</td>\n",
              "      <td>#вакансия #vacancy #job #relocate #data #azure...</td>\n",
              "      <td>[\\n    {\\n        \"_\": \"MessageEntity\",\\n     ...</td>\n",
              "      <td>2022</td>\n",
              "      <td>#вакансия #vacancy #job #relocate #data #azure...</td>\n",
              "    </tr>\n",
              "    <tr>\n",
              "      <th>1</th>\n",
              "      <td>{\\n    \"_\": \"Chat\",\\n    \"id\": -1001269377842,...</td>\n",
              "      <td>1667</td>\n",
              "      <td>2022-09-08 14:04:20</td>\n",
              "      <td>Привет! Нахожусь в поиске DBA в компанию Новак...</td>\n",
              "      <td>[\\n    {\\n        \"_\": \"MessageEntity\",\\n     ...</td>\n",
              "      <td>2022</td>\n",
              "      <td>Привет! Нахожусь в поиске DBA в компанию Новак...</td>\n",
              "    </tr>\n",
              "    <tr>\n",
              "      <th>2</th>\n",
              "      <td>{\\n    \"_\": \"Chat\",\\n    \"id\": -1001269377842,...</td>\n",
              "      <td>1666</td>\n",
              "      <td>2022-09-08 10:22:12</td>\n",
              "      <td>#удаленка #системный_аналитик #вакансия  \\n \\n...</td>\n",
              "      <td>[\\n    {\\n        \"_\": \"MessageEntity\",\\n     ...</td>\n",
              "      <td>2022</td>\n",
              "      <td>#удаленка #системный_аналитик #вакансия  \\n \\n...</td>\n",
              "    </tr>\n",
              "    <tr>\n",
              "      <th>3</th>\n",
              "      <td>{\\n    \"_\": \"Chat\",\\n    \"id\": -1001269377842,...</td>\n",
              "      <td>1665</td>\n",
              "      <td>2022-09-07 19:36:26</td>\n",
              "      <td>Сейчас мы в поиске талантливого Data Analyst в...</td>\n",
              "      <td>[\\n    {\\n        \"_\": \"MessageEntity\",\\n     ...</td>\n",
              "      <td>2022</td>\n",
              "      <td>Сейчас мы в поиске талантливого Data Analyst в...</td>\n",
              "    </tr>\n",
              "    <tr>\n",
              "      <th>4</th>\n",
              "      <td>{\\n    \"_\": \"Chat\",\\n    \"id\": -1001269377842,...</td>\n",
              "      <td>1664</td>\n",
              "      <td>2022-09-07 18:09:06</td>\n",
              "      <td>На работу в крупную международную консалтингов...</td>\n",
              "      <td>[\\n    {\\n        \"_\": \"MessageEntity\",\\n     ...</td>\n",
              "      <td>2022</td>\n",
              "      <td>На работу в крупную международную консалтингов...</td>\n",
              "    </tr>\n",
              "  </tbody>\n",
              "</table>\n",
              "</div>\n",
              "      <button class=\"colab-df-convert\" onclick=\"convertToInteractive('df-b15332ef-cd84-452d-896a-340befda0dd8')\"\n",
              "              title=\"Convert this dataframe to an interactive table.\"\n",
              "              style=\"display:none;\">\n",
              "        \n",
              "  <svg xmlns=\"http://www.w3.org/2000/svg\" height=\"24px\"viewBox=\"0 0 24 24\"\n",
              "       width=\"24px\">\n",
              "    <path d=\"M0 0h24v24H0V0z\" fill=\"none\"/>\n",
              "    <path d=\"M18.56 5.44l.94 2.06.94-2.06 2.06-.94-2.06-.94-.94-2.06-.94 2.06-2.06.94zm-11 1L8.5 8.5l.94-2.06 2.06-.94-2.06-.94L8.5 2.5l-.94 2.06-2.06.94zm10 10l.94 2.06.94-2.06 2.06-.94-2.06-.94-.94-2.06-.94 2.06-2.06.94z\"/><path d=\"M17.41 7.96l-1.37-1.37c-.4-.4-.92-.59-1.43-.59-.52 0-1.04.2-1.43.59L10.3 9.45l-7.72 7.72c-.78.78-.78 2.05 0 2.83L4 21.41c.39.39.9.59 1.41.59.51 0 1.02-.2 1.41-.59l7.78-7.78 2.81-2.81c.8-.78.8-2.07 0-2.86zM5.41 20L4 18.59l7.72-7.72 1.47 1.35L5.41 20z\"/>\n",
              "  </svg>\n",
              "      </button>\n",
              "      \n",
              "  <style>\n",
              "    .colab-df-container {\n",
              "      display:flex;\n",
              "      flex-wrap:wrap;\n",
              "      gap: 12px;\n",
              "    }\n",
              "\n",
              "    .colab-df-convert {\n",
              "      background-color: #E8F0FE;\n",
              "      border: none;\n",
              "      border-radius: 50%;\n",
              "      cursor: pointer;\n",
              "      display: none;\n",
              "      fill: #1967D2;\n",
              "      height: 32px;\n",
              "      padding: 0 0 0 0;\n",
              "      width: 32px;\n",
              "    }\n",
              "\n",
              "    .colab-df-convert:hover {\n",
              "      background-color: #E2EBFA;\n",
              "      box-shadow: 0px 1px 2px rgba(60, 64, 67, 0.3), 0px 1px 3px 1px rgba(60, 64, 67, 0.15);\n",
              "      fill: #174EA6;\n",
              "    }\n",
              "\n",
              "    [theme=dark] .colab-df-convert {\n",
              "      background-color: #3B4455;\n",
              "      fill: #D2E3FC;\n",
              "    }\n",
              "\n",
              "    [theme=dark] .colab-df-convert:hover {\n",
              "      background-color: #434B5C;\n",
              "      box-shadow: 0px 1px 3px 1px rgba(0, 0, 0, 0.15);\n",
              "      filter: drop-shadow(0px 1px 2px rgba(0, 0, 0, 0.3));\n",
              "      fill: #FFFFFF;\n",
              "    }\n",
              "  </style>\n",
              "\n",
              "      <script>\n",
              "        const buttonEl =\n",
              "          document.querySelector('#df-b15332ef-cd84-452d-896a-340befda0dd8 button.colab-df-convert');\n",
              "        buttonEl.style.display =\n",
              "          google.colab.kernel.accessAllowed ? 'block' : 'none';\n",
              "\n",
              "        async function convertToInteractive(key) {\n",
              "          const element = document.querySelector('#df-b15332ef-cd84-452d-896a-340befda0dd8');\n",
              "          const dataTable =\n",
              "            await google.colab.kernel.invokeFunction('convertToInteractive',\n",
              "                                                     [key], {});\n",
              "          if (!dataTable) return;\n",
              "\n",
              "          const docLinkHtml = 'Like what you see? Visit the ' +\n",
              "            '<a target=\"_blank\" href=https://colab.research.google.com/notebooks/data_table.ipynb>data table notebook</a>'\n",
              "            + ' to learn more about interactive tables.';\n",
              "          element.innerHTML = '';\n",
              "          dataTable['output_type'] = 'display_data';\n",
              "          await google.colab.output.renderOutput(dataTable, element);\n",
              "          const docLink = document.createElement('div');\n",
              "          docLink.innerHTML = docLinkHtml;\n",
              "          element.appendChild(docLink);\n",
              "        }\n",
              "      </script>\n",
              "    </div>\n",
              "  </div>\n",
              "  "
            ]
          },
          "metadata": {},
          "execution_count": 27
        }
      ]
    },
    {
      "cell_type": "code",
      "source": [
        "df['year'].unique()"
      ],
      "metadata": {
        "colab": {
          "base_uri": "https://localhost:8080/"
        },
        "id": "zOxW0WaZYO5_",
        "outputId": "461070cb-25f8-4d32-8186-0a07862ce128"
      },
      "execution_count": null,
      "outputs": [
        {
          "output_type": "execute_result",
          "data": {
            "text/plain": [
              "array([2022, 2021, 2020, 2019])"
            ]
          },
          "metadata": {},
          "execution_count": 28
        }
      ]
    },
    {
      "cell_type": "code",
      "source": [
        "df.info()"
      ],
      "metadata": {
        "colab": {
          "base_uri": "https://localhost:8080/"
        },
        "id": "rJaCvrrHZolV",
        "outputId": "b037b3fe-2c3c-4ef0-ef64-b8cc5ce944c0"
      },
      "execution_count": null,
      "outputs": [
        {
          "output_type": "stream",
          "name": "stdout",
          "text": [
            "<class 'pandas.core.frame.DataFrame'>\n",
            "RangeIndex: 4261 entries, 0 to 4260\n",
            "Data columns (total 7 columns):\n",
            " #   Column      Non-Null Count  Dtype         \n",
            "---  ------      --------------  -----         \n",
            " 0   chat        4261 non-null   object        \n",
            " 1   message_id  4261 non-null   int64         \n",
            " 2   date        4261 non-null   datetime64[ns]\n",
            " 3   text        4261 non-null   object        \n",
            " 4   entities    4261 non-null   object        \n",
            " 5   year        4261 non-null   int64         \n",
            " 6   clean_text  4261 non-null   object        \n",
            "dtypes: datetime64[ns](1), int64(2), object(4)\n",
            "memory usage: 233.1+ KB\n"
          ]
        }
      ]
    },
    {
      "cell_type": "code",
      "source": [
        "remote_ex = r'(удаленка|remote|удаленно)'\n",
        " \n",
        "df['remote'] = df['clean_text'].str.contains(remote_ex)\n",
        "df['ofice'] = ~df['remote']\n",
        "\n",
        "df.head()"
      ],
      "metadata": {
        "colab": {
          "base_uri": "https://localhost:8080/",
          "height": 241
        },
        "id": "OK3OE6QlaWbI",
        "outputId": "e02f8d0c-9914-46a3-e45c-a7f65a2f71f3"
      },
      "execution_count": null,
      "outputs": [
        {
          "output_type": "stream",
          "name": "stderr",
          "text": [
            "/usr/local/lib/python3.7/dist-packages/ipykernel_launcher.py:3: UserWarning: This pattern has match groups. To actually get the groups, use str.extract.\n",
            "  This is separate from the ipykernel package so we can avoid doing imports until\n"
          ]
        },
        {
          "output_type": "execute_result",
          "data": {
            "text/plain": [
              "                                                chat  message_id  \\\n",
              "0  {\\n    \"_\": \"Chat\",\\n    \"id\": -1001269377842,...        1668   \n",
              "1  {\\n    \"_\": \"Chat\",\\n    \"id\": -1001269377842,...        1667   \n",
              "2  {\\n    \"_\": \"Chat\",\\n    \"id\": -1001269377842,...        1666   \n",
              "3  {\\n    \"_\": \"Chat\",\\n    \"id\": -1001269377842,...        1665   \n",
              "4  {\\n    \"_\": \"Chat\",\\n    \"id\": -1001269377842,...        1664   \n",
              "\n",
              "                 date                                               text  \\\n",
              "0 2022-09-09 13:46:35  #вакансия #vacancy #job #relocate #data #azure...   \n",
              "1 2022-09-08 14:04:20  Привет! Нахожусь в поиске DBA в компанию Новак...   \n",
              "2 2022-09-08 10:22:12  #удаленка #системный_аналитик #вакансия  \\n \\n...   \n",
              "3 2022-09-07 19:36:26  Сейчас мы в поиске талантливого Data Analyst в...   \n",
              "4 2022-09-07 18:09:06  На работу в крупную международную консалтингов...   \n",
              "\n",
              "                                            entities  year  \\\n",
              "0  [\\n    {\\n        \"_\": \"MessageEntity\",\\n     ...  2022   \n",
              "1  [\\n    {\\n        \"_\": \"MessageEntity\",\\n     ...  2022   \n",
              "2  [\\n    {\\n        \"_\": \"MessageEntity\",\\n     ...  2022   \n",
              "3  [\\n    {\\n        \"_\": \"MessageEntity\",\\n     ...  2022   \n",
              "4  [\\n    {\\n        \"_\": \"MessageEntity\",\\n     ...  2022   \n",
              "\n",
              "                                          clean_text  remote  ofice  \n",
              "0  #вакансия #vacancy #job #relocate #data #azure...   False   True  \n",
              "1  Привет! Нахожусь в поиске DBA в компанию Новак...   False   True  \n",
              "2  #удаленка #системный_аналитик #вакансия  \\n \\n...    True  False  \n",
              "3  Сейчас мы в поиске талантливого Data Analyst в...    True  False  \n",
              "4  На работу в крупную международную консалтингов...   False   True  "
            ],
            "text/html": [
              "\n",
              "  <div id=\"df-b3dca163-00ff-487b-aba9-88c220a92ebf\">\n",
              "    <div class=\"colab-df-container\">\n",
              "      <div>\n",
              "<style scoped>\n",
              "    .dataframe tbody tr th:only-of-type {\n",
              "        vertical-align: middle;\n",
              "    }\n",
              "\n",
              "    .dataframe tbody tr th {\n",
              "        vertical-align: top;\n",
              "    }\n",
              "\n",
              "    .dataframe thead th {\n",
              "        text-align: right;\n",
              "    }\n",
              "</style>\n",
              "<table border=\"1\" class=\"dataframe\">\n",
              "  <thead>\n",
              "    <tr style=\"text-align: right;\">\n",
              "      <th></th>\n",
              "      <th>chat</th>\n",
              "      <th>message_id</th>\n",
              "      <th>date</th>\n",
              "      <th>text</th>\n",
              "      <th>entities</th>\n",
              "      <th>year</th>\n",
              "      <th>clean_text</th>\n",
              "      <th>remote</th>\n",
              "      <th>ofice</th>\n",
              "    </tr>\n",
              "  </thead>\n",
              "  <tbody>\n",
              "    <tr>\n",
              "      <th>0</th>\n",
              "      <td>{\\n    \"_\": \"Chat\",\\n    \"id\": -1001269377842,...</td>\n",
              "      <td>1668</td>\n",
              "      <td>2022-09-09 13:46:35</td>\n",
              "      <td>#вакансия #vacancy #job #relocate #data #azure...</td>\n",
              "      <td>[\\n    {\\n        \"_\": \"MessageEntity\",\\n     ...</td>\n",
              "      <td>2022</td>\n",
              "      <td>#вакансия #vacancy #job #relocate #data #azure...</td>\n",
              "      <td>False</td>\n",
              "      <td>True</td>\n",
              "    </tr>\n",
              "    <tr>\n",
              "      <th>1</th>\n",
              "      <td>{\\n    \"_\": \"Chat\",\\n    \"id\": -1001269377842,...</td>\n",
              "      <td>1667</td>\n",
              "      <td>2022-09-08 14:04:20</td>\n",
              "      <td>Привет! Нахожусь в поиске DBA в компанию Новак...</td>\n",
              "      <td>[\\n    {\\n        \"_\": \"MessageEntity\",\\n     ...</td>\n",
              "      <td>2022</td>\n",
              "      <td>Привет! Нахожусь в поиске DBA в компанию Новак...</td>\n",
              "      <td>False</td>\n",
              "      <td>True</td>\n",
              "    </tr>\n",
              "    <tr>\n",
              "      <th>2</th>\n",
              "      <td>{\\n    \"_\": \"Chat\",\\n    \"id\": -1001269377842,...</td>\n",
              "      <td>1666</td>\n",
              "      <td>2022-09-08 10:22:12</td>\n",
              "      <td>#удаленка #системный_аналитик #вакансия  \\n \\n...</td>\n",
              "      <td>[\\n    {\\n        \"_\": \"MessageEntity\",\\n     ...</td>\n",
              "      <td>2022</td>\n",
              "      <td>#удаленка #системный_аналитик #вакансия  \\n \\n...</td>\n",
              "      <td>True</td>\n",
              "      <td>False</td>\n",
              "    </tr>\n",
              "    <tr>\n",
              "      <th>3</th>\n",
              "      <td>{\\n    \"_\": \"Chat\",\\n    \"id\": -1001269377842,...</td>\n",
              "      <td>1665</td>\n",
              "      <td>2022-09-07 19:36:26</td>\n",
              "      <td>Сейчас мы в поиске талантливого Data Analyst в...</td>\n",
              "      <td>[\\n    {\\n        \"_\": \"MessageEntity\",\\n     ...</td>\n",
              "      <td>2022</td>\n",
              "      <td>Сейчас мы в поиске талантливого Data Analyst в...</td>\n",
              "      <td>True</td>\n",
              "      <td>False</td>\n",
              "    </tr>\n",
              "    <tr>\n",
              "      <th>4</th>\n",
              "      <td>{\\n    \"_\": \"Chat\",\\n    \"id\": -1001269377842,...</td>\n",
              "      <td>1664</td>\n",
              "      <td>2022-09-07 18:09:06</td>\n",
              "      <td>На работу в крупную международную консалтингов...</td>\n",
              "      <td>[\\n    {\\n        \"_\": \"MessageEntity\",\\n     ...</td>\n",
              "      <td>2022</td>\n",
              "      <td>На работу в крупную международную консалтингов...</td>\n",
              "      <td>False</td>\n",
              "      <td>True</td>\n",
              "    </tr>\n",
              "  </tbody>\n",
              "</table>\n",
              "</div>\n",
              "      <button class=\"colab-df-convert\" onclick=\"convertToInteractive('df-b3dca163-00ff-487b-aba9-88c220a92ebf')\"\n",
              "              title=\"Convert this dataframe to an interactive table.\"\n",
              "              style=\"display:none;\">\n",
              "        \n",
              "  <svg xmlns=\"http://www.w3.org/2000/svg\" height=\"24px\"viewBox=\"0 0 24 24\"\n",
              "       width=\"24px\">\n",
              "    <path d=\"M0 0h24v24H0V0z\" fill=\"none\"/>\n",
              "    <path d=\"M18.56 5.44l.94 2.06.94-2.06 2.06-.94-2.06-.94-.94-2.06-.94 2.06-2.06.94zm-11 1L8.5 8.5l.94-2.06 2.06-.94-2.06-.94L8.5 2.5l-.94 2.06-2.06.94zm10 10l.94 2.06.94-2.06 2.06-.94-2.06-.94-.94-2.06-.94 2.06-2.06.94z\"/><path d=\"M17.41 7.96l-1.37-1.37c-.4-.4-.92-.59-1.43-.59-.52 0-1.04.2-1.43.59L10.3 9.45l-7.72 7.72c-.78.78-.78 2.05 0 2.83L4 21.41c.39.39.9.59 1.41.59.51 0 1.02-.2 1.41-.59l7.78-7.78 2.81-2.81c.8-.78.8-2.07 0-2.86zM5.41 20L4 18.59l7.72-7.72 1.47 1.35L5.41 20z\"/>\n",
              "  </svg>\n",
              "      </button>\n",
              "      \n",
              "  <style>\n",
              "    .colab-df-container {\n",
              "      display:flex;\n",
              "      flex-wrap:wrap;\n",
              "      gap: 12px;\n",
              "    }\n",
              "\n",
              "    .colab-df-convert {\n",
              "      background-color: #E8F0FE;\n",
              "      border: none;\n",
              "      border-radius: 50%;\n",
              "      cursor: pointer;\n",
              "      display: none;\n",
              "      fill: #1967D2;\n",
              "      height: 32px;\n",
              "      padding: 0 0 0 0;\n",
              "      width: 32px;\n",
              "    }\n",
              "\n",
              "    .colab-df-convert:hover {\n",
              "      background-color: #E2EBFA;\n",
              "      box-shadow: 0px 1px 2px rgba(60, 64, 67, 0.3), 0px 1px 3px 1px rgba(60, 64, 67, 0.15);\n",
              "      fill: #174EA6;\n",
              "    }\n",
              "\n",
              "    [theme=dark] .colab-df-convert {\n",
              "      background-color: #3B4455;\n",
              "      fill: #D2E3FC;\n",
              "    }\n",
              "\n",
              "    [theme=dark] .colab-df-convert:hover {\n",
              "      background-color: #434B5C;\n",
              "      box-shadow: 0px 1px 3px 1px rgba(0, 0, 0, 0.15);\n",
              "      filter: drop-shadow(0px 1px 2px rgba(0, 0, 0, 0.3));\n",
              "      fill: #FFFFFF;\n",
              "    }\n",
              "  </style>\n",
              "\n",
              "      <script>\n",
              "        const buttonEl =\n",
              "          document.querySelector('#df-b3dca163-00ff-487b-aba9-88c220a92ebf button.colab-df-convert');\n",
              "        buttonEl.style.display =\n",
              "          google.colab.kernel.accessAllowed ? 'block' : 'none';\n",
              "\n",
              "        async function convertToInteractive(key) {\n",
              "          const element = document.querySelector('#df-b3dca163-00ff-487b-aba9-88c220a92ebf');\n",
              "          const dataTable =\n",
              "            await google.colab.kernel.invokeFunction('convertToInteractive',\n",
              "                                                     [key], {});\n",
              "          if (!dataTable) return;\n",
              "\n",
              "          const docLinkHtml = 'Like what you see? Visit the ' +\n",
              "            '<a target=\"_blank\" href=https://colab.research.google.com/notebooks/data_table.ipynb>data table notebook</a>'\n",
              "            + ' to learn more about interactive tables.';\n",
              "          element.innerHTML = '';\n",
              "          dataTable['output_type'] = 'display_data';\n",
              "          await google.colab.output.renderOutput(dataTable, element);\n",
              "          const docLink = document.createElement('div');\n",
              "          docLink.innerHTML = docLinkHtml;\n",
              "          element.appendChild(docLink);\n",
              "        }\n",
              "      </script>\n",
              "    </div>\n",
              "  </div>\n",
              "  "
            ]
          },
          "metadata": {},
          "execution_count": 30
        }
      ]
    },
    {
      "cell_type": "code",
      "source": [
        "# let`s doing category ds & da\n",
        "ds = r'ds|scien|дс|cаен|tensorflow|pytorch'\n",
        "da = r'analyst|analysis|аналитик|bi|business intelligence|биай|tableau'\n",
        "\n",
        "# Let's mark True or False where we have a match\n",
        "df['ds'] = df['clean_text'].apply(lambda x: True if re.search(ds, x.lower()) else False)\n",
        "df['da'] = df['clean_text'].apply(lambda x: True if re.search(da, x.lower()) else False)\n",
        "\n",
        "df.head()"
      ],
      "metadata": {
        "id": "38UKMoXoqvh-",
        "colab": {
          "base_uri": "https://localhost:8080/",
          "height": 205
        },
        "outputId": "2ab597f8-ec8f-4043-8e8f-62649f7c3f57"
      },
      "execution_count": null,
      "outputs": [
        {
          "output_type": "execute_result",
          "data": {
            "text/plain": [
              "                                                chat  message_id  \\\n",
              "0  {\\n    \"_\": \"Chat\",\\n    \"id\": -1001269377842,...        1668   \n",
              "1  {\\n    \"_\": \"Chat\",\\n    \"id\": -1001269377842,...        1667   \n",
              "2  {\\n    \"_\": \"Chat\",\\n    \"id\": -1001269377842,...        1666   \n",
              "3  {\\n    \"_\": \"Chat\",\\n    \"id\": -1001269377842,...        1665   \n",
              "4  {\\n    \"_\": \"Chat\",\\n    \"id\": -1001269377842,...        1664   \n",
              "\n",
              "                 date                                               text  \\\n",
              "0 2022-09-09 13:46:35  #вакансия #vacancy #job #relocate #data #azure...   \n",
              "1 2022-09-08 14:04:20  Привет! Нахожусь в поиске DBA в компанию Новак...   \n",
              "2 2022-09-08 10:22:12  #удаленка #системный_аналитик #вакансия  \\n \\n...   \n",
              "3 2022-09-07 19:36:26  Сейчас мы в поиске талантливого Data Analyst в...   \n",
              "4 2022-09-07 18:09:06  На работу в крупную международную консалтингов...   \n",
              "\n",
              "                                            entities  year  \\\n",
              "0  [\\n    {\\n        \"_\": \"MessageEntity\",\\n     ...  2022   \n",
              "1  [\\n    {\\n        \"_\": \"MessageEntity\",\\n     ...  2022   \n",
              "2  [\\n    {\\n        \"_\": \"MessageEntity\",\\n     ...  2022   \n",
              "3  [\\n    {\\n        \"_\": \"MessageEntity\",\\n     ...  2022   \n",
              "4  [\\n    {\\n        \"_\": \"MessageEntity\",\\n     ...  2022   \n",
              "\n",
              "                                          clean_text  remote  ofice     ds  \\\n",
              "0  #вакансия #vacancy #job #relocate #data #azure...   False   True   True   \n",
              "1  Привет! Нахожусь в поиске DBA в компанию Новак...   False   True  False   \n",
              "2  #удаленка #системный_аналитик #вакансия  \\n \\n...    True  False  False   \n",
              "3  Сейчас мы в поиске талантливого Data Analyst в...    True  False   True   \n",
              "4  На работу в крупную международную консалтингов...   False   True   True   \n",
              "\n",
              "      da  \n",
              "0  False  \n",
              "1   True  \n",
              "2   True  \n",
              "3   True  \n",
              "4   True  "
            ],
            "text/html": [
              "\n",
              "  <div id=\"df-bef7279f-4877-4376-baa2-db116442902c\">\n",
              "    <div class=\"colab-df-container\">\n",
              "      <div>\n",
              "<style scoped>\n",
              "    .dataframe tbody tr th:only-of-type {\n",
              "        vertical-align: middle;\n",
              "    }\n",
              "\n",
              "    .dataframe tbody tr th {\n",
              "        vertical-align: top;\n",
              "    }\n",
              "\n",
              "    .dataframe thead th {\n",
              "        text-align: right;\n",
              "    }\n",
              "</style>\n",
              "<table border=\"1\" class=\"dataframe\">\n",
              "  <thead>\n",
              "    <tr style=\"text-align: right;\">\n",
              "      <th></th>\n",
              "      <th>chat</th>\n",
              "      <th>message_id</th>\n",
              "      <th>date</th>\n",
              "      <th>text</th>\n",
              "      <th>entities</th>\n",
              "      <th>year</th>\n",
              "      <th>clean_text</th>\n",
              "      <th>remote</th>\n",
              "      <th>ofice</th>\n",
              "      <th>ds</th>\n",
              "      <th>da</th>\n",
              "    </tr>\n",
              "  </thead>\n",
              "  <tbody>\n",
              "    <tr>\n",
              "      <th>0</th>\n",
              "      <td>{\\n    \"_\": \"Chat\",\\n    \"id\": -1001269377842,...</td>\n",
              "      <td>1668</td>\n",
              "      <td>2022-09-09 13:46:35</td>\n",
              "      <td>#вакансия #vacancy #job #relocate #data #azure...</td>\n",
              "      <td>[\\n    {\\n        \"_\": \"MessageEntity\",\\n     ...</td>\n",
              "      <td>2022</td>\n",
              "      <td>#вакансия #vacancy #job #relocate #data #azure...</td>\n",
              "      <td>False</td>\n",
              "      <td>True</td>\n",
              "      <td>True</td>\n",
              "      <td>False</td>\n",
              "    </tr>\n",
              "    <tr>\n",
              "      <th>1</th>\n",
              "      <td>{\\n    \"_\": \"Chat\",\\n    \"id\": -1001269377842,...</td>\n",
              "      <td>1667</td>\n",
              "      <td>2022-09-08 14:04:20</td>\n",
              "      <td>Привет! Нахожусь в поиске DBA в компанию Новак...</td>\n",
              "      <td>[\\n    {\\n        \"_\": \"MessageEntity\",\\n     ...</td>\n",
              "      <td>2022</td>\n",
              "      <td>Привет! Нахожусь в поиске DBA в компанию Новак...</td>\n",
              "      <td>False</td>\n",
              "      <td>True</td>\n",
              "      <td>False</td>\n",
              "      <td>True</td>\n",
              "    </tr>\n",
              "    <tr>\n",
              "      <th>2</th>\n",
              "      <td>{\\n    \"_\": \"Chat\",\\n    \"id\": -1001269377842,...</td>\n",
              "      <td>1666</td>\n",
              "      <td>2022-09-08 10:22:12</td>\n",
              "      <td>#удаленка #системный_аналитик #вакансия  \\n \\n...</td>\n",
              "      <td>[\\n    {\\n        \"_\": \"MessageEntity\",\\n     ...</td>\n",
              "      <td>2022</td>\n",
              "      <td>#удаленка #системный_аналитик #вакансия  \\n \\n...</td>\n",
              "      <td>True</td>\n",
              "      <td>False</td>\n",
              "      <td>False</td>\n",
              "      <td>True</td>\n",
              "    </tr>\n",
              "    <tr>\n",
              "      <th>3</th>\n",
              "      <td>{\\n    \"_\": \"Chat\",\\n    \"id\": -1001269377842,...</td>\n",
              "      <td>1665</td>\n",
              "      <td>2022-09-07 19:36:26</td>\n",
              "      <td>Сейчас мы в поиске талантливого Data Analyst в...</td>\n",
              "      <td>[\\n    {\\n        \"_\": \"MessageEntity\",\\n     ...</td>\n",
              "      <td>2022</td>\n",
              "      <td>Сейчас мы в поиске талантливого Data Analyst в...</td>\n",
              "      <td>True</td>\n",
              "      <td>False</td>\n",
              "      <td>True</td>\n",
              "      <td>True</td>\n",
              "    </tr>\n",
              "    <tr>\n",
              "      <th>4</th>\n",
              "      <td>{\\n    \"_\": \"Chat\",\\n    \"id\": -1001269377842,...</td>\n",
              "      <td>1664</td>\n",
              "      <td>2022-09-07 18:09:06</td>\n",
              "      <td>На работу в крупную международную консалтингов...</td>\n",
              "      <td>[\\n    {\\n        \"_\": \"MessageEntity\",\\n     ...</td>\n",
              "      <td>2022</td>\n",
              "      <td>На работу в крупную международную консалтингов...</td>\n",
              "      <td>False</td>\n",
              "      <td>True</td>\n",
              "      <td>True</td>\n",
              "      <td>True</td>\n",
              "    </tr>\n",
              "  </tbody>\n",
              "</table>\n",
              "</div>\n",
              "      <button class=\"colab-df-convert\" onclick=\"convertToInteractive('df-bef7279f-4877-4376-baa2-db116442902c')\"\n",
              "              title=\"Convert this dataframe to an interactive table.\"\n",
              "              style=\"display:none;\">\n",
              "        \n",
              "  <svg xmlns=\"http://www.w3.org/2000/svg\" height=\"24px\"viewBox=\"0 0 24 24\"\n",
              "       width=\"24px\">\n",
              "    <path d=\"M0 0h24v24H0V0z\" fill=\"none\"/>\n",
              "    <path d=\"M18.56 5.44l.94 2.06.94-2.06 2.06-.94-2.06-.94-.94-2.06-.94 2.06-2.06.94zm-11 1L8.5 8.5l.94-2.06 2.06-.94-2.06-.94L8.5 2.5l-.94 2.06-2.06.94zm10 10l.94 2.06.94-2.06 2.06-.94-2.06-.94-.94-2.06-.94 2.06-2.06.94z\"/><path d=\"M17.41 7.96l-1.37-1.37c-.4-.4-.92-.59-1.43-.59-.52 0-1.04.2-1.43.59L10.3 9.45l-7.72 7.72c-.78.78-.78 2.05 0 2.83L4 21.41c.39.39.9.59 1.41.59.51 0 1.02-.2 1.41-.59l7.78-7.78 2.81-2.81c.8-.78.8-2.07 0-2.86zM5.41 20L4 18.59l7.72-7.72 1.47 1.35L5.41 20z\"/>\n",
              "  </svg>\n",
              "      </button>\n",
              "      \n",
              "  <style>\n",
              "    .colab-df-container {\n",
              "      display:flex;\n",
              "      flex-wrap:wrap;\n",
              "      gap: 12px;\n",
              "    }\n",
              "\n",
              "    .colab-df-convert {\n",
              "      background-color: #E8F0FE;\n",
              "      border: none;\n",
              "      border-radius: 50%;\n",
              "      cursor: pointer;\n",
              "      display: none;\n",
              "      fill: #1967D2;\n",
              "      height: 32px;\n",
              "      padding: 0 0 0 0;\n",
              "      width: 32px;\n",
              "    }\n",
              "\n",
              "    .colab-df-convert:hover {\n",
              "      background-color: #E2EBFA;\n",
              "      box-shadow: 0px 1px 2px rgba(60, 64, 67, 0.3), 0px 1px 3px 1px rgba(60, 64, 67, 0.15);\n",
              "      fill: #174EA6;\n",
              "    }\n",
              "\n",
              "    [theme=dark] .colab-df-convert {\n",
              "      background-color: #3B4455;\n",
              "      fill: #D2E3FC;\n",
              "    }\n",
              "\n",
              "    [theme=dark] .colab-df-convert:hover {\n",
              "      background-color: #434B5C;\n",
              "      box-shadow: 0px 1px 3px 1px rgba(0, 0, 0, 0.15);\n",
              "      filter: drop-shadow(0px 1px 2px rgba(0, 0, 0, 0.3));\n",
              "      fill: #FFFFFF;\n",
              "    }\n",
              "  </style>\n",
              "\n",
              "      <script>\n",
              "        const buttonEl =\n",
              "          document.querySelector('#df-bef7279f-4877-4376-baa2-db116442902c button.colab-df-convert');\n",
              "        buttonEl.style.display =\n",
              "          google.colab.kernel.accessAllowed ? 'block' : 'none';\n",
              "\n",
              "        async function convertToInteractive(key) {\n",
              "          const element = document.querySelector('#df-bef7279f-4877-4376-baa2-db116442902c');\n",
              "          const dataTable =\n",
              "            await google.colab.kernel.invokeFunction('convertToInteractive',\n",
              "                                                     [key], {});\n",
              "          if (!dataTable) return;\n",
              "\n",
              "          const docLinkHtml = 'Like what you see? Visit the ' +\n",
              "            '<a target=\"_blank\" href=https://colab.research.google.com/notebooks/data_table.ipynb>data table notebook</a>'\n",
              "            + ' to learn more about interactive tables.';\n",
              "          element.innerHTML = '';\n",
              "          dataTable['output_type'] = 'display_data';\n",
              "          await google.colab.output.renderOutput(dataTable, element);\n",
              "          const docLink = document.createElement('div');\n",
              "          docLink.innerHTML = docLinkHtml;\n",
              "          element.appendChild(docLink);\n",
              "        }\n",
              "      </script>\n",
              "    </div>\n",
              "  </div>\n",
              "  "
            ]
          },
          "metadata": {},
          "execution_count": 31
        }
      ]
    },
    {
      "cell_type": "code",
      "source": [
        "# let`s doing category Junior, Middle, Senior, Lead\n",
        "Junior = r'(junior|джун|начинающ|стаж[её]р)'\n",
        "Middle = r'(middle|\\Wмидл|миддл)'\n",
        "Senior = r'(senior|синьор|сеньор|\\Wстарш)'\n",
        "Lead = r'(\\Wlead\\W|\\Whead\\W|\\Wлид\\W|\\Wведущ)'\n",
        "\n",
        "# Let's mark True or False where we have a match\n",
        "df['Junior'] = df['clean_text'].apply(lambda x: True if re.search(Junior, x.lower()) else False)\n",
        "df['Middle'] = df['clean_text'].apply(lambda x: True if re.search(Middle, x.lower()) else False)\n",
        "df['Senior'] = df['clean_text'].apply(lambda x: True if re.search(Senior, x.lower()) else False)\n",
        "df['Lead'] = df['clean_text'].apply(lambda x: True if re.search(Lead, x.lower()) else False)\n",
        "\n",
        "df.head(10)"
      ],
      "metadata": {
        "colab": {
          "base_uri": "https://localhost:8080/",
          "height": 580
        },
        "id": "SXxRv4RQxVVm",
        "outputId": "17f55b85-5837-4377-b53f-751b65441756"
      },
      "execution_count": null,
      "outputs": [
        {
          "output_type": "execute_result",
          "data": {
            "text/plain": [
              "                                                chat  message_id  \\\n",
              "0  {\\n    \"_\": \"Chat\",\\n    \"id\": -1001269377842,...        1668   \n",
              "1  {\\n    \"_\": \"Chat\",\\n    \"id\": -1001269377842,...        1667   \n",
              "2  {\\n    \"_\": \"Chat\",\\n    \"id\": -1001269377842,...        1666   \n",
              "3  {\\n    \"_\": \"Chat\",\\n    \"id\": -1001269377842,...        1665   \n",
              "4  {\\n    \"_\": \"Chat\",\\n    \"id\": -1001269377842,...        1664   \n",
              "5  {\\n    \"_\": \"Chat\",\\n    \"id\": -1001269377842,...        1663   \n",
              "6  {\\n    \"_\": \"Chat\",\\n    \"id\": -1001269377842,...        1662   \n",
              "7  {\\n    \"_\": \"Chat\",\\n    \"id\": -1001269377842,...        1661   \n",
              "8  {\\n    \"_\": \"Chat\",\\n    \"id\": -1001269377842,...        1660   \n",
              "9  {\\n    \"_\": \"Chat\",\\n    \"id\": -1001269377842,...        1659   \n",
              "\n",
              "                 date                                               text  \\\n",
              "0 2022-09-09 13:46:35  #вакансия #vacancy #job #relocate #data #azure...   \n",
              "1 2022-09-08 14:04:20  Привет! Нахожусь в поиске DBA в компанию Новак...   \n",
              "2 2022-09-08 10:22:12  #удаленка #системный_аналитик #вакансия  \\n \\n...   \n",
              "3 2022-09-07 19:36:26  Сейчас мы в поиске талантливого Data Analyst в...   \n",
              "4 2022-09-07 18:09:06  На работу в крупную международную консалтингов...   \n",
              "5 2022-09-07 13:12:29  #удаленка #системный_аналитик #вакансия \\n\\n⭕️...   \n",
              "6 2022-09-06 17:07:16  #вакансия #работа #fulltime #job #vaсancy\\n\\n📍...   \n",
              "7 2022-09-05 15:02:04  #vacancy #вакансия #BI #Engineer #Tableau #Sen...   \n",
              "8 2022-09-05 14:31:08  ПРИВЕТ!\\n\\nЯ, рекрутер АО \"ГНИВЦ\",  в поиске \\...   \n",
              "9 2022-09-02 19:21:02  #вакансия #data #dataengineer #dataanalyst #bi...   \n",
              "\n",
              "                                            entities  year  \\\n",
              "0  [\\n    {\\n        \"_\": \"MessageEntity\",\\n     ...  2022   \n",
              "1  [\\n    {\\n        \"_\": \"MessageEntity\",\\n     ...  2022   \n",
              "2  [\\n    {\\n        \"_\": \"MessageEntity\",\\n     ...  2022   \n",
              "3  [\\n    {\\n        \"_\": \"MessageEntity\",\\n     ...  2022   \n",
              "4  [\\n    {\\n        \"_\": \"MessageEntity\",\\n     ...  2022   \n",
              "5  [\\n    {\\n        \"_\": \"MessageEntity\",\\n     ...  2022   \n",
              "6  [\\n    {\\n        \"_\": \"MessageEntity\",\\n     ...  2022   \n",
              "7  [\\n    {\\n        \"_\": \"MessageEntity\",\\n     ...  2022   \n",
              "8  [\\n    {\\n        \"_\": \"MessageEntity\",\\n     ...  2022   \n",
              "9  [\\n    {\\n        \"_\": \"MessageEntity\",\\n     ...  2022   \n",
              "\n",
              "                                          clean_text  remote  ofice     ds  \\\n",
              "0  #вакансия #vacancy #job #relocate #data #azure...   False   True   True   \n",
              "1  Привет! Нахожусь в поиске DBA в компанию Новак...   False   True  False   \n",
              "2  #удаленка #системный_аналитик #вакансия  \\n \\n...    True  False  False   \n",
              "3  Сейчас мы в поиске талантливого Data Analyst в...    True  False   True   \n",
              "4  На работу в крупную международную консалтингов...   False   True   True   \n",
              "5  #удаленка #системный_аналитик #вакансия \\n\\n⭕️...    True  False  False   \n",
              "6  #вакансия #работа #fulltime #job #vaсancy\\n\\n📍...    True  False   True   \n",
              "7  #vacancy #вакансия #BI #Engineer #Tableau #Sen...    True  False  False   \n",
              "8  ПРИВЕТ!\\n\\nЯ, рекрутер АО \"ГНИВЦ\",  в поиске \\...   False   True  False   \n",
              "9  #вакансия #data #dataengineer #dataanalyst #bi...   False   True   True   \n",
              "\n",
              "      da  Junior  Middle  Senior   Lead  \n",
              "0  False   False   False   False  False  \n",
              "1   True   False   False   False   True  \n",
              "2   True   False    True   False  False  \n",
              "3   True   False   False   False  False  \n",
              "4   True   False   False    True  False  \n",
              "5   True   False    True   False  False  \n",
              "6   True    True    True   False  False  \n",
              "7   True   False   False    True  False  \n",
              "8  False   False   False   False  False  \n",
              "9   True   False   False   False  False  "
            ],
            "text/html": [
              "\n",
              "  <div id=\"df-1897712a-163c-4fed-b021-6ab003f3c8ac\">\n",
              "    <div class=\"colab-df-container\">\n",
              "      <div>\n",
              "<style scoped>\n",
              "    .dataframe tbody tr th:only-of-type {\n",
              "        vertical-align: middle;\n",
              "    }\n",
              "\n",
              "    .dataframe tbody tr th {\n",
              "        vertical-align: top;\n",
              "    }\n",
              "\n",
              "    .dataframe thead th {\n",
              "        text-align: right;\n",
              "    }\n",
              "</style>\n",
              "<table border=\"1\" class=\"dataframe\">\n",
              "  <thead>\n",
              "    <tr style=\"text-align: right;\">\n",
              "      <th></th>\n",
              "      <th>chat</th>\n",
              "      <th>message_id</th>\n",
              "      <th>date</th>\n",
              "      <th>text</th>\n",
              "      <th>entities</th>\n",
              "      <th>year</th>\n",
              "      <th>clean_text</th>\n",
              "      <th>remote</th>\n",
              "      <th>ofice</th>\n",
              "      <th>ds</th>\n",
              "      <th>da</th>\n",
              "      <th>Junior</th>\n",
              "      <th>Middle</th>\n",
              "      <th>Senior</th>\n",
              "      <th>Lead</th>\n",
              "    </tr>\n",
              "  </thead>\n",
              "  <tbody>\n",
              "    <tr>\n",
              "      <th>0</th>\n",
              "      <td>{\\n    \"_\": \"Chat\",\\n    \"id\": -1001269377842,...</td>\n",
              "      <td>1668</td>\n",
              "      <td>2022-09-09 13:46:35</td>\n",
              "      <td>#вакансия #vacancy #job #relocate #data #azure...</td>\n",
              "      <td>[\\n    {\\n        \"_\": \"MessageEntity\",\\n     ...</td>\n",
              "      <td>2022</td>\n",
              "      <td>#вакансия #vacancy #job #relocate #data #azure...</td>\n",
              "      <td>False</td>\n",
              "      <td>True</td>\n",
              "      <td>True</td>\n",
              "      <td>False</td>\n",
              "      <td>False</td>\n",
              "      <td>False</td>\n",
              "      <td>False</td>\n",
              "      <td>False</td>\n",
              "    </tr>\n",
              "    <tr>\n",
              "      <th>1</th>\n",
              "      <td>{\\n    \"_\": \"Chat\",\\n    \"id\": -1001269377842,...</td>\n",
              "      <td>1667</td>\n",
              "      <td>2022-09-08 14:04:20</td>\n",
              "      <td>Привет! Нахожусь в поиске DBA в компанию Новак...</td>\n",
              "      <td>[\\n    {\\n        \"_\": \"MessageEntity\",\\n     ...</td>\n",
              "      <td>2022</td>\n",
              "      <td>Привет! Нахожусь в поиске DBA в компанию Новак...</td>\n",
              "      <td>False</td>\n",
              "      <td>True</td>\n",
              "      <td>False</td>\n",
              "      <td>True</td>\n",
              "      <td>False</td>\n",
              "      <td>False</td>\n",
              "      <td>False</td>\n",
              "      <td>True</td>\n",
              "    </tr>\n",
              "    <tr>\n",
              "      <th>2</th>\n",
              "      <td>{\\n    \"_\": \"Chat\",\\n    \"id\": -1001269377842,...</td>\n",
              "      <td>1666</td>\n",
              "      <td>2022-09-08 10:22:12</td>\n",
              "      <td>#удаленка #системный_аналитик #вакансия  \\n \\n...</td>\n",
              "      <td>[\\n    {\\n        \"_\": \"MessageEntity\",\\n     ...</td>\n",
              "      <td>2022</td>\n",
              "      <td>#удаленка #системный_аналитик #вакансия  \\n \\n...</td>\n",
              "      <td>True</td>\n",
              "      <td>False</td>\n",
              "      <td>False</td>\n",
              "      <td>True</td>\n",
              "      <td>False</td>\n",
              "      <td>True</td>\n",
              "      <td>False</td>\n",
              "      <td>False</td>\n",
              "    </tr>\n",
              "    <tr>\n",
              "      <th>3</th>\n",
              "      <td>{\\n    \"_\": \"Chat\",\\n    \"id\": -1001269377842,...</td>\n",
              "      <td>1665</td>\n",
              "      <td>2022-09-07 19:36:26</td>\n",
              "      <td>Сейчас мы в поиске талантливого Data Analyst в...</td>\n",
              "      <td>[\\n    {\\n        \"_\": \"MessageEntity\",\\n     ...</td>\n",
              "      <td>2022</td>\n",
              "      <td>Сейчас мы в поиске талантливого Data Analyst в...</td>\n",
              "      <td>True</td>\n",
              "      <td>False</td>\n",
              "      <td>True</td>\n",
              "      <td>True</td>\n",
              "      <td>False</td>\n",
              "      <td>False</td>\n",
              "      <td>False</td>\n",
              "      <td>False</td>\n",
              "    </tr>\n",
              "    <tr>\n",
              "      <th>4</th>\n",
              "      <td>{\\n    \"_\": \"Chat\",\\n    \"id\": -1001269377842,...</td>\n",
              "      <td>1664</td>\n",
              "      <td>2022-09-07 18:09:06</td>\n",
              "      <td>На работу в крупную международную консалтингов...</td>\n",
              "      <td>[\\n    {\\n        \"_\": \"MessageEntity\",\\n     ...</td>\n",
              "      <td>2022</td>\n",
              "      <td>На работу в крупную международную консалтингов...</td>\n",
              "      <td>False</td>\n",
              "      <td>True</td>\n",
              "      <td>True</td>\n",
              "      <td>True</td>\n",
              "      <td>False</td>\n",
              "      <td>False</td>\n",
              "      <td>True</td>\n",
              "      <td>False</td>\n",
              "    </tr>\n",
              "    <tr>\n",
              "      <th>5</th>\n",
              "      <td>{\\n    \"_\": \"Chat\",\\n    \"id\": -1001269377842,...</td>\n",
              "      <td>1663</td>\n",
              "      <td>2022-09-07 13:12:29</td>\n",
              "      <td>#удаленка #системный_аналитик #вакансия \\n\\n⭕️...</td>\n",
              "      <td>[\\n    {\\n        \"_\": \"MessageEntity\",\\n     ...</td>\n",
              "      <td>2022</td>\n",
              "      <td>#удаленка #системный_аналитик #вакансия \\n\\n⭕️...</td>\n",
              "      <td>True</td>\n",
              "      <td>False</td>\n",
              "      <td>False</td>\n",
              "      <td>True</td>\n",
              "      <td>False</td>\n",
              "      <td>True</td>\n",
              "      <td>False</td>\n",
              "      <td>False</td>\n",
              "    </tr>\n",
              "    <tr>\n",
              "      <th>6</th>\n",
              "      <td>{\\n    \"_\": \"Chat\",\\n    \"id\": -1001269377842,...</td>\n",
              "      <td>1662</td>\n",
              "      <td>2022-09-06 17:07:16</td>\n",
              "      <td>#вакансия #работа #fulltime #job #vaсancy\\n\\n📍...</td>\n",
              "      <td>[\\n    {\\n        \"_\": \"MessageEntity\",\\n     ...</td>\n",
              "      <td>2022</td>\n",
              "      <td>#вакансия #работа #fulltime #job #vaсancy\\n\\n📍...</td>\n",
              "      <td>True</td>\n",
              "      <td>False</td>\n",
              "      <td>True</td>\n",
              "      <td>True</td>\n",
              "      <td>True</td>\n",
              "      <td>True</td>\n",
              "      <td>False</td>\n",
              "      <td>False</td>\n",
              "    </tr>\n",
              "    <tr>\n",
              "      <th>7</th>\n",
              "      <td>{\\n    \"_\": \"Chat\",\\n    \"id\": -1001269377842,...</td>\n",
              "      <td>1661</td>\n",
              "      <td>2022-09-05 15:02:04</td>\n",
              "      <td>#vacancy #вакансия #BI #Engineer #Tableau #Sen...</td>\n",
              "      <td>[\\n    {\\n        \"_\": \"MessageEntity\",\\n     ...</td>\n",
              "      <td>2022</td>\n",
              "      <td>#vacancy #вакансия #BI #Engineer #Tableau #Sen...</td>\n",
              "      <td>True</td>\n",
              "      <td>False</td>\n",
              "      <td>False</td>\n",
              "      <td>True</td>\n",
              "      <td>False</td>\n",
              "      <td>False</td>\n",
              "      <td>True</td>\n",
              "      <td>False</td>\n",
              "    </tr>\n",
              "    <tr>\n",
              "      <th>8</th>\n",
              "      <td>{\\n    \"_\": \"Chat\",\\n    \"id\": -1001269377842,...</td>\n",
              "      <td>1660</td>\n",
              "      <td>2022-09-05 14:31:08</td>\n",
              "      <td>ПРИВЕТ!\\n\\nЯ, рекрутер АО \"ГНИВЦ\",  в поиске \\...</td>\n",
              "      <td>[\\n    {\\n        \"_\": \"MessageEntity\",\\n     ...</td>\n",
              "      <td>2022</td>\n",
              "      <td>ПРИВЕТ!\\n\\nЯ, рекрутер АО \"ГНИВЦ\",  в поиске \\...</td>\n",
              "      <td>False</td>\n",
              "      <td>True</td>\n",
              "      <td>False</td>\n",
              "      <td>False</td>\n",
              "      <td>False</td>\n",
              "      <td>False</td>\n",
              "      <td>False</td>\n",
              "      <td>False</td>\n",
              "    </tr>\n",
              "    <tr>\n",
              "      <th>9</th>\n",
              "      <td>{\\n    \"_\": \"Chat\",\\n    \"id\": -1001269377842,...</td>\n",
              "      <td>1659</td>\n",
              "      <td>2022-09-02 19:21:02</td>\n",
              "      <td>#вакансия #data #dataengineer #dataanalyst #bi...</td>\n",
              "      <td>[\\n    {\\n        \"_\": \"MessageEntity\",\\n     ...</td>\n",
              "      <td>2022</td>\n",
              "      <td>#вакансия #data #dataengineer #dataanalyst #bi...</td>\n",
              "      <td>False</td>\n",
              "      <td>True</td>\n",
              "      <td>True</td>\n",
              "      <td>True</td>\n",
              "      <td>False</td>\n",
              "      <td>False</td>\n",
              "      <td>False</td>\n",
              "      <td>False</td>\n",
              "    </tr>\n",
              "  </tbody>\n",
              "</table>\n",
              "</div>\n",
              "      <button class=\"colab-df-convert\" onclick=\"convertToInteractive('df-1897712a-163c-4fed-b021-6ab003f3c8ac')\"\n",
              "              title=\"Convert this dataframe to an interactive table.\"\n",
              "              style=\"display:none;\">\n",
              "        \n",
              "  <svg xmlns=\"http://www.w3.org/2000/svg\" height=\"24px\"viewBox=\"0 0 24 24\"\n",
              "       width=\"24px\">\n",
              "    <path d=\"M0 0h24v24H0V0z\" fill=\"none\"/>\n",
              "    <path d=\"M18.56 5.44l.94 2.06.94-2.06 2.06-.94-2.06-.94-.94-2.06-.94 2.06-2.06.94zm-11 1L8.5 8.5l.94-2.06 2.06-.94-2.06-.94L8.5 2.5l-.94 2.06-2.06.94zm10 10l.94 2.06.94-2.06 2.06-.94-2.06-.94-.94-2.06-.94 2.06-2.06.94z\"/><path d=\"M17.41 7.96l-1.37-1.37c-.4-.4-.92-.59-1.43-.59-.52 0-1.04.2-1.43.59L10.3 9.45l-7.72 7.72c-.78.78-.78 2.05 0 2.83L4 21.41c.39.39.9.59 1.41.59.51 0 1.02-.2 1.41-.59l7.78-7.78 2.81-2.81c.8-.78.8-2.07 0-2.86zM5.41 20L4 18.59l7.72-7.72 1.47 1.35L5.41 20z\"/>\n",
              "  </svg>\n",
              "      </button>\n",
              "      \n",
              "  <style>\n",
              "    .colab-df-container {\n",
              "      display:flex;\n",
              "      flex-wrap:wrap;\n",
              "      gap: 12px;\n",
              "    }\n",
              "\n",
              "    .colab-df-convert {\n",
              "      background-color: #E8F0FE;\n",
              "      border: none;\n",
              "      border-radius: 50%;\n",
              "      cursor: pointer;\n",
              "      display: none;\n",
              "      fill: #1967D2;\n",
              "      height: 32px;\n",
              "      padding: 0 0 0 0;\n",
              "      width: 32px;\n",
              "    }\n",
              "\n",
              "    .colab-df-convert:hover {\n",
              "      background-color: #E2EBFA;\n",
              "      box-shadow: 0px 1px 2px rgba(60, 64, 67, 0.3), 0px 1px 3px 1px rgba(60, 64, 67, 0.15);\n",
              "      fill: #174EA6;\n",
              "    }\n",
              "\n",
              "    [theme=dark] .colab-df-convert {\n",
              "      background-color: #3B4455;\n",
              "      fill: #D2E3FC;\n",
              "    }\n",
              "\n",
              "    [theme=dark] .colab-df-convert:hover {\n",
              "      background-color: #434B5C;\n",
              "      box-shadow: 0px 1px 3px 1px rgba(0, 0, 0, 0.15);\n",
              "      filter: drop-shadow(0px 1px 2px rgba(0, 0, 0, 0.3));\n",
              "      fill: #FFFFFF;\n",
              "    }\n",
              "  </style>\n",
              "\n",
              "      <script>\n",
              "        const buttonEl =\n",
              "          document.querySelector('#df-1897712a-163c-4fed-b021-6ab003f3c8ac button.colab-df-convert');\n",
              "        buttonEl.style.display =\n",
              "          google.colab.kernel.accessAllowed ? 'block' : 'none';\n",
              "\n",
              "        async function convertToInteractive(key) {\n",
              "          const element = document.querySelector('#df-1897712a-163c-4fed-b021-6ab003f3c8ac');\n",
              "          const dataTable =\n",
              "            await google.colab.kernel.invokeFunction('convertToInteractive',\n",
              "                                                     [key], {});\n",
              "          if (!dataTable) return;\n",
              "\n",
              "          const docLinkHtml = 'Like what you see? Visit the ' +\n",
              "            '<a target=\"_blank\" href=https://colab.research.google.com/notebooks/data_table.ipynb>data table notebook</a>'\n",
              "            + ' to learn more about interactive tables.';\n",
              "          element.innerHTML = '';\n",
              "          dataTable['output_type'] = 'display_data';\n",
              "          await google.colab.output.renderOutput(dataTable, element);\n",
              "          const docLink = document.createElement('div');\n",
              "          docLink.innerHTML = docLinkHtml;\n",
              "          element.appendChild(docLink);\n",
              "        }\n",
              "      </script>\n",
              "    </div>\n",
              "  </div>\n",
              "  "
            ]
          },
          "metadata": {},
          "execution_count": 32
        }
      ]
    },
    {
      "cell_type": "code",
      "source": [
        "educ = r'(технич|математ|прикладн|информат)'\n",
        "\n",
        "# Let's mark True or False where we have a match\n",
        "df['education'] = df['clean_text'].apply(lambda x: True if re.search(educ, x.lower()) else False)\n",
        "\n",
        "df.head()"
      ],
      "metadata": {
        "colab": {
          "base_uri": "https://localhost:8080/",
          "height": 337
        },
        "id": "AzVengy8UonG",
        "outputId": "f8af1001-9b1e-4432-9bb5-9b9796cf6cb9"
      },
      "execution_count": null,
      "outputs": [
        {
          "output_type": "execute_result",
          "data": {
            "text/plain": [
              "                                                chat  message_id  \\\n",
              "0  {\\n    \"_\": \"Chat\",\\n    \"id\": -1001269377842,...        1668   \n",
              "1  {\\n    \"_\": \"Chat\",\\n    \"id\": -1001269377842,...        1667   \n",
              "2  {\\n    \"_\": \"Chat\",\\n    \"id\": -1001269377842,...        1666   \n",
              "3  {\\n    \"_\": \"Chat\",\\n    \"id\": -1001269377842,...        1665   \n",
              "4  {\\n    \"_\": \"Chat\",\\n    \"id\": -1001269377842,...        1664   \n",
              "\n",
              "                 date                                               text  \\\n",
              "0 2022-09-09 13:46:35  #вакансия #vacancy #job #relocate #data #azure...   \n",
              "1 2022-09-08 14:04:20  Привет! Нахожусь в поиске DBA в компанию Новак...   \n",
              "2 2022-09-08 10:22:12  #удаленка #системный_аналитик #вакансия  \\n \\n...   \n",
              "3 2022-09-07 19:36:26  Сейчас мы в поиске талантливого Data Analyst в...   \n",
              "4 2022-09-07 18:09:06  На работу в крупную международную консалтингов...   \n",
              "\n",
              "                                            entities  year  \\\n",
              "0  [\\n    {\\n        \"_\": \"MessageEntity\",\\n     ...  2022   \n",
              "1  [\\n    {\\n        \"_\": \"MessageEntity\",\\n     ...  2022   \n",
              "2  [\\n    {\\n        \"_\": \"MessageEntity\",\\n     ...  2022   \n",
              "3  [\\n    {\\n        \"_\": \"MessageEntity\",\\n     ...  2022   \n",
              "4  [\\n    {\\n        \"_\": \"MessageEntity\",\\n     ...  2022   \n",
              "\n",
              "                                          clean_text  remote  ofice     ds  \\\n",
              "0  #вакансия #vacancy #job #relocate #data #azure...   False   True   True   \n",
              "1  Привет! Нахожусь в поиске DBA в компанию Новак...   False   True  False   \n",
              "2  #удаленка #системный_аналитик #вакансия  \\n \\n...    True  False  False   \n",
              "3  Сейчас мы в поиске талантливого Data Analyst в...    True  False   True   \n",
              "4  На работу в крупную международную консалтингов...   False   True   True   \n",
              "\n",
              "      da  Junior  Middle  Senior   Lead  education  \n",
              "0  False   False   False   False  False      False  \n",
              "1   True   False   False   False   True      False  \n",
              "2   True   False    True   False  False       True  \n",
              "3   True   False   False   False  False      False  \n",
              "4   True   False   False    True  False      False  "
            ],
            "text/html": [
              "\n",
              "  <div id=\"df-98879690-1325-4808-be24-77f20e1a71a0\">\n",
              "    <div class=\"colab-df-container\">\n",
              "      <div>\n",
              "<style scoped>\n",
              "    .dataframe tbody tr th:only-of-type {\n",
              "        vertical-align: middle;\n",
              "    }\n",
              "\n",
              "    .dataframe tbody tr th {\n",
              "        vertical-align: top;\n",
              "    }\n",
              "\n",
              "    .dataframe thead th {\n",
              "        text-align: right;\n",
              "    }\n",
              "</style>\n",
              "<table border=\"1\" class=\"dataframe\">\n",
              "  <thead>\n",
              "    <tr style=\"text-align: right;\">\n",
              "      <th></th>\n",
              "      <th>chat</th>\n",
              "      <th>message_id</th>\n",
              "      <th>date</th>\n",
              "      <th>text</th>\n",
              "      <th>entities</th>\n",
              "      <th>year</th>\n",
              "      <th>clean_text</th>\n",
              "      <th>remote</th>\n",
              "      <th>ofice</th>\n",
              "      <th>ds</th>\n",
              "      <th>da</th>\n",
              "      <th>Junior</th>\n",
              "      <th>Middle</th>\n",
              "      <th>Senior</th>\n",
              "      <th>Lead</th>\n",
              "      <th>education</th>\n",
              "    </tr>\n",
              "  </thead>\n",
              "  <tbody>\n",
              "    <tr>\n",
              "      <th>0</th>\n",
              "      <td>{\\n    \"_\": \"Chat\",\\n    \"id\": -1001269377842,...</td>\n",
              "      <td>1668</td>\n",
              "      <td>2022-09-09 13:46:35</td>\n",
              "      <td>#вакансия #vacancy #job #relocate #data #azure...</td>\n",
              "      <td>[\\n    {\\n        \"_\": \"MessageEntity\",\\n     ...</td>\n",
              "      <td>2022</td>\n",
              "      <td>#вакансия #vacancy #job #relocate #data #azure...</td>\n",
              "      <td>False</td>\n",
              "      <td>True</td>\n",
              "      <td>True</td>\n",
              "      <td>False</td>\n",
              "      <td>False</td>\n",
              "      <td>False</td>\n",
              "      <td>False</td>\n",
              "      <td>False</td>\n",
              "      <td>False</td>\n",
              "    </tr>\n",
              "    <tr>\n",
              "      <th>1</th>\n",
              "      <td>{\\n    \"_\": \"Chat\",\\n    \"id\": -1001269377842,...</td>\n",
              "      <td>1667</td>\n",
              "      <td>2022-09-08 14:04:20</td>\n",
              "      <td>Привет! Нахожусь в поиске DBA в компанию Новак...</td>\n",
              "      <td>[\\n    {\\n        \"_\": \"MessageEntity\",\\n     ...</td>\n",
              "      <td>2022</td>\n",
              "      <td>Привет! Нахожусь в поиске DBA в компанию Новак...</td>\n",
              "      <td>False</td>\n",
              "      <td>True</td>\n",
              "      <td>False</td>\n",
              "      <td>True</td>\n",
              "      <td>False</td>\n",
              "      <td>False</td>\n",
              "      <td>False</td>\n",
              "      <td>True</td>\n",
              "      <td>False</td>\n",
              "    </tr>\n",
              "    <tr>\n",
              "      <th>2</th>\n",
              "      <td>{\\n    \"_\": \"Chat\",\\n    \"id\": -1001269377842,...</td>\n",
              "      <td>1666</td>\n",
              "      <td>2022-09-08 10:22:12</td>\n",
              "      <td>#удаленка #системный_аналитик #вакансия  \\n \\n...</td>\n",
              "      <td>[\\n    {\\n        \"_\": \"MessageEntity\",\\n     ...</td>\n",
              "      <td>2022</td>\n",
              "      <td>#удаленка #системный_аналитик #вакансия  \\n \\n...</td>\n",
              "      <td>True</td>\n",
              "      <td>False</td>\n",
              "      <td>False</td>\n",
              "      <td>True</td>\n",
              "      <td>False</td>\n",
              "      <td>True</td>\n",
              "      <td>False</td>\n",
              "      <td>False</td>\n",
              "      <td>True</td>\n",
              "    </tr>\n",
              "    <tr>\n",
              "      <th>3</th>\n",
              "      <td>{\\n    \"_\": \"Chat\",\\n    \"id\": -1001269377842,...</td>\n",
              "      <td>1665</td>\n",
              "      <td>2022-09-07 19:36:26</td>\n",
              "      <td>Сейчас мы в поиске талантливого Data Analyst в...</td>\n",
              "      <td>[\\n    {\\n        \"_\": \"MessageEntity\",\\n     ...</td>\n",
              "      <td>2022</td>\n",
              "      <td>Сейчас мы в поиске талантливого Data Analyst в...</td>\n",
              "      <td>True</td>\n",
              "      <td>False</td>\n",
              "      <td>True</td>\n",
              "      <td>True</td>\n",
              "      <td>False</td>\n",
              "      <td>False</td>\n",
              "      <td>False</td>\n",
              "      <td>False</td>\n",
              "      <td>False</td>\n",
              "    </tr>\n",
              "    <tr>\n",
              "      <th>4</th>\n",
              "      <td>{\\n    \"_\": \"Chat\",\\n    \"id\": -1001269377842,...</td>\n",
              "      <td>1664</td>\n",
              "      <td>2022-09-07 18:09:06</td>\n",
              "      <td>На работу в крупную международную консалтингов...</td>\n",
              "      <td>[\\n    {\\n        \"_\": \"MessageEntity\",\\n     ...</td>\n",
              "      <td>2022</td>\n",
              "      <td>На работу в крупную международную консалтингов...</td>\n",
              "      <td>False</td>\n",
              "      <td>True</td>\n",
              "      <td>True</td>\n",
              "      <td>True</td>\n",
              "      <td>False</td>\n",
              "      <td>False</td>\n",
              "      <td>True</td>\n",
              "      <td>False</td>\n",
              "      <td>False</td>\n",
              "    </tr>\n",
              "  </tbody>\n",
              "</table>\n",
              "</div>\n",
              "      <button class=\"colab-df-convert\" onclick=\"convertToInteractive('df-98879690-1325-4808-be24-77f20e1a71a0')\"\n",
              "              title=\"Convert this dataframe to an interactive table.\"\n",
              "              style=\"display:none;\">\n",
              "        \n",
              "  <svg xmlns=\"http://www.w3.org/2000/svg\" height=\"24px\"viewBox=\"0 0 24 24\"\n",
              "       width=\"24px\">\n",
              "    <path d=\"M0 0h24v24H0V0z\" fill=\"none\"/>\n",
              "    <path d=\"M18.56 5.44l.94 2.06.94-2.06 2.06-.94-2.06-.94-.94-2.06-.94 2.06-2.06.94zm-11 1L8.5 8.5l.94-2.06 2.06-.94-2.06-.94L8.5 2.5l-.94 2.06-2.06.94zm10 10l.94 2.06.94-2.06 2.06-.94-2.06-.94-.94-2.06-.94 2.06-2.06.94z\"/><path d=\"M17.41 7.96l-1.37-1.37c-.4-.4-.92-.59-1.43-.59-.52 0-1.04.2-1.43.59L10.3 9.45l-7.72 7.72c-.78.78-.78 2.05 0 2.83L4 21.41c.39.39.9.59 1.41.59.51 0 1.02-.2 1.41-.59l7.78-7.78 2.81-2.81c.8-.78.8-2.07 0-2.86zM5.41 20L4 18.59l7.72-7.72 1.47 1.35L5.41 20z\"/>\n",
              "  </svg>\n",
              "      </button>\n",
              "      \n",
              "  <style>\n",
              "    .colab-df-container {\n",
              "      display:flex;\n",
              "      flex-wrap:wrap;\n",
              "      gap: 12px;\n",
              "    }\n",
              "\n",
              "    .colab-df-convert {\n",
              "      background-color: #E8F0FE;\n",
              "      border: none;\n",
              "      border-radius: 50%;\n",
              "      cursor: pointer;\n",
              "      display: none;\n",
              "      fill: #1967D2;\n",
              "      height: 32px;\n",
              "      padding: 0 0 0 0;\n",
              "      width: 32px;\n",
              "    }\n",
              "\n",
              "    .colab-df-convert:hover {\n",
              "      background-color: #E2EBFA;\n",
              "      box-shadow: 0px 1px 2px rgba(60, 64, 67, 0.3), 0px 1px 3px 1px rgba(60, 64, 67, 0.15);\n",
              "      fill: #174EA6;\n",
              "    }\n",
              "\n",
              "    [theme=dark] .colab-df-convert {\n",
              "      background-color: #3B4455;\n",
              "      fill: #D2E3FC;\n",
              "    }\n",
              "\n",
              "    [theme=dark] .colab-df-convert:hover {\n",
              "      background-color: #434B5C;\n",
              "      box-shadow: 0px 1px 3px 1px rgba(0, 0, 0, 0.15);\n",
              "      filter: drop-shadow(0px 1px 2px rgba(0, 0, 0, 0.3));\n",
              "      fill: #FFFFFF;\n",
              "    }\n",
              "  </style>\n",
              "\n",
              "      <script>\n",
              "        const buttonEl =\n",
              "          document.querySelector('#df-98879690-1325-4808-be24-77f20e1a71a0 button.colab-df-convert');\n",
              "        buttonEl.style.display =\n",
              "          google.colab.kernel.accessAllowed ? 'block' : 'none';\n",
              "\n",
              "        async function convertToInteractive(key) {\n",
              "          const element = document.querySelector('#df-98879690-1325-4808-be24-77f20e1a71a0');\n",
              "          const dataTable =\n",
              "            await google.colab.kernel.invokeFunction('convertToInteractive',\n",
              "                                                     [key], {});\n",
              "          if (!dataTable) return;\n",
              "\n",
              "          const docLinkHtml = 'Like what you see? Visit the ' +\n",
              "            '<a target=\"_blank\" href=https://colab.research.google.com/notebooks/data_table.ipynb>data table notebook</a>'\n",
              "            + ' to learn more about interactive tables.';\n",
              "          element.innerHTML = '';\n",
              "          dataTable['output_type'] = 'display_data';\n",
              "          await google.colab.output.renderOutput(dataTable, element);\n",
              "          const docLink = document.createElement('div');\n",
              "          docLink.innerHTML = docLinkHtml;\n",
              "          element.appendChild(docLink);\n",
              "        }\n",
              "      </script>\n",
              "    </div>\n",
              "  </div>\n",
              "  "
            ]
          },
          "metadata": {},
          "execution_count": 33
        }
      ]
    },
    {
      "cell_type": "code",
      "source": [
        "english = r'(английск|A[123]|B[123]|C[123]|beginner|elementary|pre-Intermediate|intermediate|upper-intermediate|proficient|effective|operational|advanced|mastery|proficiency)'\n",
        "\n",
        "# Let's mark True or False where we have a match\n",
        "df['english'] = df['clean_text'].apply(lambda x: True if re.search(educ, x.lower()) else False)\n",
        "\n",
        "df.head()"
      ],
      "metadata": {
        "colab": {
          "base_uri": "https://localhost:8080/",
          "height": 337
        },
        "id": "pej1NcMxewB2",
        "outputId": "2342e786-f368-4b62-8b96-c9b792b0bf67"
      },
      "execution_count": null,
      "outputs": [
        {
          "output_type": "execute_result",
          "data": {
            "text/plain": [
              "                                                chat  message_id  \\\n",
              "0  {\\n    \"_\": \"Chat\",\\n    \"id\": -1001269377842,...        1668   \n",
              "1  {\\n    \"_\": \"Chat\",\\n    \"id\": -1001269377842,...        1667   \n",
              "2  {\\n    \"_\": \"Chat\",\\n    \"id\": -1001269377842,...        1666   \n",
              "3  {\\n    \"_\": \"Chat\",\\n    \"id\": -1001269377842,...        1665   \n",
              "4  {\\n    \"_\": \"Chat\",\\n    \"id\": -1001269377842,...        1664   \n",
              "\n",
              "                 date                                               text  \\\n",
              "0 2022-09-09 13:46:35  #вакансия #vacancy #job #relocate #data #azure...   \n",
              "1 2022-09-08 14:04:20  Привет! Нахожусь в поиске DBA в компанию Новак...   \n",
              "2 2022-09-08 10:22:12  #удаленка #системный_аналитик #вакансия  \\n \\n...   \n",
              "3 2022-09-07 19:36:26  Сейчас мы в поиске талантливого Data Analyst в...   \n",
              "4 2022-09-07 18:09:06  На работу в крупную международную консалтингов...   \n",
              "\n",
              "                                            entities  year  \\\n",
              "0  [\\n    {\\n        \"_\": \"MessageEntity\",\\n     ...  2022   \n",
              "1  [\\n    {\\n        \"_\": \"MessageEntity\",\\n     ...  2022   \n",
              "2  [\\n    {\\n        \"_\": \"MessageEntity\",\\n     ...  2022   \n",
              "3  [\\n    {\\n        \"_\": \"MessageEntity\",\\n     ...  2022   \n",
              "4  [\\n    {\\n        \"_\": \"MessageEntity\",\\n     ...  2022   \n",
              "\n",
              "                                          clean_text  remote  ofice     ds  \\\n",
              "0  #вакансия #vacancy #job #relocate #data #azure...   False   True   True   \n",
              "1  Привет! Нахожусь в поиске DBA в компанию Новак...   False   True  False   \n",
              "2  #удаленка #системный_аналитик #вакансия  \\n \\n...    True  False  False   \n",
              "3  Сейчас мы в поиске талантливого Data Analyst в...    True  False   True   \n",
              "4  На работу в крупную международную консалтингов...   False   True   True   \n",
              "\n",
              "      da  Junior  Middle  Senior   Lead  education  english  \n",
              "0  False   False   False   False  False      False    False  \n",
              "1   True   False   False   False   True      False    False  \n",
              "2   True   False    True   False  False       True     True  \n",
              "3   True   False   False   False  False      False    False  \n",
              "4   True   False   False    True  False      False    False  "
            ],
            "text/html": [
              "\n",
              "  <div id=\"df-fc219311-451c-45d6-beab-c6fb5522b5c1\">\n",
              "    <div class=\"colab-df-container\">\n",
              "      <div>\n",
              "<style scoped>\n",
              "    .dataframe tbody tr th:only-of-type {\n",
              "        vertical-align: middle;\n",
              "    }\n",
              "\n",
              "    .dataframe tbody tr th {\n",
              "        vertical-align: top;\n",
              "    }\n",
              "\n",
              "    .dataframe thead th {\n",
              "        text-align: right;\n",
              "    }\n",
              "</style>\n",
              "<table border=\"1\" class=\"dataframe\">\n",
              "  <thead>\n",
              "    <tr style=\"text-align: right;\">\n",
              "      <th></th>\n",
              "      <th>chat</th>\n",
              "      <th>message_id</th>\n",
              "      <th>date</th>\n",
              "      <th>text</th>\n",
              "      <th>entities</th>\n",
              "      <th>year</th>\n",
              "      <th>clean_text</th>\n",
              "      <th>remote</th>\n",
              "      <th>ofice</th>\n",
              "      <th>ds</th>\n",
              "      <th>da</th>\n",
              "      <th>Junior</th>\n",
              "      <th>Middle</th>\n",
              "      <th>Senior</th>\n",
              "      <th>Lead</th>\n",
              "      <th>education</th>\n",
              "      <th>english</th>\n",
              "    </tr>\n",
              "  </thead>\n",
              "  <tbody>\n",
              "    <tr>\n",
              "      <th>0</th>\n",
              "      <td>{\\n    \"_\": \"Chat\",\\n    \"id\": -1001269377842,...</td>\n",
              "      <td>1668</td>\n",
              "      <td>2022-09-09 13:46:35</td>\n",
              "      <td>#вакансия #vacancy #job #relocate #data #azure...</td>\n",
              "      <td>[\\n    {\\n        \"_\": \"MessageEntity\",\\n     ...</td>\n",
              "      <td>2022</td>\n",
              "      <td>#вакансия #vacancy #job #relocate #data #azure...</td>\n",
              "      <td>False</td>\n",
              "      <td>True</td>\n",
              "      <td>True</td>\n",
              "      <td>False</td>\n",
              "      <td>False</td>\n",
              "      <td>False</td>\n",
              "      <td>False</td>\n",
              "      <td>False</td>\n",
              "      <td>False</td>\n",
              "      <td>False</td>\n",
              "    </tr>\n",
              "    <tr>\n",
              "      <th>1</th>\n",
              "      <td>{\\n    \"_\": \"Chat\",\\n    \"id\": -1001269377842,...</td>\n",
              "      <td>1667</td>\n",
              "      <td>2022-09-08 14:04:20</td>\n",
              "      <td>Привет! Нахожусь в поиске DBA в компанию Новак...</td>\n",
              "      <td>[\\n    {\\n        \"_\": \"MessageEntity\",\\n     ...</td>\n",
              "      <td>2022</td>\n",
              "      <td>Привет! Нахожусь в поиске DBA в компанию Новак...</td>\n",
              "      <td>False</td>\n",
              "      <td>True</td>\n",
              "      <td>False</td>\n",
              "      <td>True</td>\n",
              "      <td>False</td>\n",
              "      <td>False</td>\n",
              "      <td>False</td>\n",
              "      <td>True</td>\n",
              "      <td>False</td>\n",
              "      <td>False</td>\n",
              "    </tr>\n",
              "    <tr>\n",
              "      <th>2</th>\n",
              "      <td>{\\n    \"_\": \"Chat\",\\n    \"id\": -1001269377842,...</td>\n",
              "      <td>1666</td>\n",
              "      <td>2022-09-08 10:22:12</td>\n",
              "      <td>#удаленка #системный_аналитик #вакансия  \\n \\n...</td>\n",
              "      <td>[\\n    {\\n        \"_\": \"MessageEntity\",\\n     ...</td>\n",
              "      <td>2022</td>\n",
              "      <td>#удаленка #системный_аналитик #вакансия  \\n \\n...</td>\n",
              "      <td>True</td>\n",
              "      <td>False</td>\n",
              "      <td>False</td>\n",
              "      <td>True</td>\n",
              "      <td>False</td>\n",
              "      <td>True</td>\n",
              "      <td>False</td>\n",
              "      <td>False</td>\n",
              "      <td>True</td>\n",
              "      <td>True</td>\n",
              "    </tr>\n",
              "    <tr>\n",
              "      <th>3</th>\n",
              "      <td>{\\n    \"_\": \"Chat\",\\n    \"id\": -1001269377842,...</td>\n",
              "      <td>1665</td>\n",
              "      <td>2022-09-07 19:36:26</td>\n",
              "      <td>Сейчас мы в поиске талантливого Data Analyst в...</td>\n",
              "      <td>[\\n    {\\n        \"_\": \"MessageEntity\",\\n     ...</td>\n",
              "      <td>2022</td>\n",
              "      <td>Сейчас мы в поиске талантливого Data Analyst в...</td>\n",
              "      <td>True</td>\n",
              "      <td>False</td>\n",
              "      <td>True</td>\n",
              "      <td>True</td>\n",
              "      <td>False</td>\n",
              "      <td>False</td>\n",
              "      <td>False</td>\n",
              "      <td>False</td>\n",
              "      <td>False</td>\n",
              "      <td>False</td>\n",
              "    </tr>\n",
              "    <tr>\n",
              "      <th>4</th>\n",
              "      <td>{\\n    \"_\": \"Chat\",\\n    \"id\": -1001269377842,...</td>\n",
              "      <td>1664</td>\n",
              "      <td>2022-09-07 18:09:06</td>\n",
              "      <td>На работу в крупную международную консалтингов...</td>\n",
              "      <td>[\\n    {\\n        \"_\": \"MessageEntity\",\\n     ...</td>\n",
              "      <td>2022</td>\n",
              "      <td>На работу в крупную международную консалтингов...</td>\n",
              "      <td>False</td>\n",
              "      <td>True</td>\n",
              "      <td>True</td>\n",
              "      <td>True</td>\n",
              "      <td>False</td>\n",
              "      <td>False</td>\n",
              "      <td>True</td>\n",
              "      <td>False</td>\n",
              "      <td>False</td>\n",
              "      <td>False</td>\n",
              "    </tr>\n",
              "  </tbody>\n",
              "</table>\n",
              "</div>\n",
              "      <button class=\"colab-df-convert\" onclick=\"convertToInteractive('df-fc219311-451c-45d6-beab-c6fb5522b5c1')\"\n",
              "              title=\"Convert this dataframe to an interactive table.\"\n",
              "              style=\"display:none;\">\n",
              "        \n",
              "  <svg xmlns=\"http://www.w3.org/2000/svg\" height=\"24px\"viewBox=\"0 0 24 24\"\n",
              "       width=\"24px\">\n",
              "    <path d=\"M0 0h24v24H0V0z\" fill=\"none\"/>\n",
              "    <path d=\"M18.56 5.44l.94 2.06.94-2.06 2.06-.94-2.06-.94-.94-2.06-.94 2.06-2.06.94zm-11 1L8.5 8.5l.94-2.06 2.06-.94-2.06-.94L8.5 2.5l-.94 2.06-2.06.94zm10 10l.94 2.06.94-2.06 2.06-.94-2.06-.94-.94-2.06-.94 2.06-2.06.94z\"/><path d=\"M17.41 7.96l-1.37-1.37c-.4-.4-.92-.59-1.43-.59-.52 0-1.04.2-1.43.59L10.3 9.45l-7.72 7.72c-.78.78-.78 2.05 0 2.83L4 21.41c.39.39.9.59 1.41.59.51 0 1.02-.2 1.41-.59l7.78-7.78 2.81-2.81c.8-.78.8-2.07 0-2.86zM5.41 20L4 18.59l7.72-7.72 1.47 1.35L5.41 20z\"/>\n",
              "  </svg>\n",
              "      </button>\n",
              "      \n",
              "  <style>\n",
              "    .colab-df-container {\n",
              "      display:flex;\n",
              "      flex-wrap:wrap;\n",
              "      gap: 12px;\n",
              "    }\n",
              "\n",
              "    .colab-df-convert {\n",
              "      background-color: #E8F0FE;\n",
              "      border: none;\n",
              "      border-radius: 50%;\n",
              "      cursor: pointer;\n",
              "      display: none;\n",
              "      fill: #1967D2;\n",
              "      height: 32px;\n",
              "      padding: 0 0 0 0;\n",
              "      width: 32px;\n",
              "    }\n",
              "\n",
              "    .colab-df-convert:hover {\n",
              "      background-color: #E2EBFA;\n",
              "      box-shadow: 0px 1px 2px rgba(60, 64, 67, 0.3), 0px 1px 3px 1px rgba(60, 64, 67, 0.15);\n",
              "      fill: #174EA6;\n",
              "    }\n",
              "\n",
              "    [theme=dark] .colab-df-convert {\n",
              "      background-color: #3B4455;\n",
              "      fill: #D2E3FC;\n",
              "    }\n",
              "\n",
              "    [theme=dark] .colab-df-convert:hover {\n",
              "      background-color: #434B5C;\n",
              "      box-shadow: 0px 1px 3px 1px rgba(0, 0, 0, 0.15);\n",
              "      filter: drop-shadow(0px 1px 2px rgba(0, 0, 0, 0.3));\n",
              "      fill: #FFFFFF;\n",
              "    }\n",
              "  </style>\n",
              "\n",
              "      <script>\n",
              "        const buttonEl =\n",
              "          document.querySelector('#df-fc219311-451c-45d6-beab-c6fb5522b5c1 button.colab-df-convert');\n",
              "        buttonEl.style.display =\n",
              "          google.colab.kernel.accessAllowed ? 'block' : 'none';\n",
              "\n",
              "        async function convertToInteractive(key) {\n",
              "          const element = document.querySelector('#df-fc219311-451c-45d6-beab-c6fb5522b5c1');\n",
              "          const dataTable =\n",
              "            await google.colab.kernel.invokeFunction('convertToInteractive',\n",
              "                                                     [key], {});\n",
              "          if (!dataTable) return;\n",
              "\n",
              "          const docLinkHtml = 'Like what you see? Visit the ' +\n",
              "            '<a target=\"_blank\" href=https://colab.research.google.com/notebooks/data_table.ipynb>data table notebook</a>'\n",
              "            + ' to learn more about interactive tables.';\n",
              "          element.innerHTML = '';\n",
              "          dataTable['output_type'] = 'display_data';\n",
              "          await google.colab.output.renderOutput(dataTable, element);\n",
              "          const docLink = document.createElement('div');\n",
              "          docLink.innerHTML = docLinkHtml;\n",
              "          element.appendChild(docLink);\n",
              "        }\n",
              "      </script>\n",
              "    </div>\n",
              "  </div>\n",
              "  "
            ]
          },
          "metadata": {},
          "execution_count": 34
        }
      ]
    },
    {
      "cell_type": "markdown",
      "source": [
        "### Исследуем вакансии"
      ],
      "metadata": {
        "id": "oc01AJm4k1nP"
      }
    },
    {
      "cell_type": "markdown",
      "source": [
        "### DA & DS"
      ],
      "metadata": {
        "id": "cWY1VtLizEyf"
      }
    },
    {
      "cell_type": "code",
      "source": [
        "# для ДА сделаем табличку\n",
        "df_da = df[(df['da'])]\n",
        "df_da_an = df_da.pivot_table(index=['year'], values=['da'], aggfunc=['count']).reset_index()\n",
        "df_da_an.columns=['year', 'da']\n",
        "\n",
        "# для ДС сделаем табличку\n",
        "df_ds = df[(df['ds'])]\n",
        "df_ds_an = df_ds.pivot_table(index=['year'], values=['ds'], aggfunc=['count']).reset_index()\n",
        "df_ds_an.columns=['year', 'ds']\n",
        "\n",
        "# общую сделаем табличку\n",
        "df_all = df_da_an.merge(df_ds_an, how='left', on='year')\n",
        "df_all"
      ],
      "metadata": {
        "colab": {
          "base_uri": "https://localhost:8080/",
          "height": 174
        },
        "id": "I6-12dHH86wg",
        "outputId": "133e48b6-774c-4708-d36a-176f7f8d30c4"
      },
      "execution_count": null,
      "outputs": [
        {
          "output_type": "execute_result",
          "data": {
            "text/plain": [
              "   year    da   ds\n",
              "0  2019   153  181\n",
              "1  2020   468  407\n",
              "2  2021   935  867\n",
              "3  2022  1256  701"
            ],
            "text/html": [
              "\n",
              "  <div id=\"df-a362eb28-d7a7-496f-977a-730f4e1ac41f\">\n",
              "    <div class=\"colab-df-container\">\n",
              "      <div>\n",
              "<style scoped>\n",
              "    .dataframe tbody tr th:only-of-type {\n",
              "        vertical-align: middle;\n",
              "    }\n",
              "\n",
              "    .dataframe tbody tr th {\n",
              "        vertical-align: top;\n",
              "    }\n",
              "\n",
              "    .dataframe thead th {\n",
              "        text-align: right;\n",
              "    }\n",
              "</style>\n",
              "<table border=\"1\" class=\"dataframe\">\n",
              "  <thead>\n",
              "    <tr style=\"text-align: right;\">\n",
              "      <th></th>\n",
              "      <th>year</th>\n",
              "      <th>da</th>\n",
              "      <th>ds</th>\n",
              "    </tr>\n",
              "  </thead>\n",
              "  <tbody>\n",
              "    <tr>\n",
              "      <th>0</th>\n",
              "      <td>2019</td>\n",
              "      <td>153</td>\n",
              "      <td>181</td>\n",
              "    </tr>\n",
              "    <tr>\n",
              "      <th>1</th>\n",
              "      <td>2020</td>\n",
              "      <td>468</td>\n",
              "      <td>407</td>\n",
              "    </tr>\n",
              "    <tr>\n",
              "      <th>2</th>\n",
              "      <td>2021</td>\n",
              "      <td>935</td>\n",
              "      <td>867</td>\n",
              "    </tr>\n",
              "    <tr>\n",
              "      <th>3</th>\n",
              "      <td>2022</td>\n",
              "      <td>1256</td>\n",
              "      <td>701</td>\n",
              "    </tr>\n",
              "  </tbody>\n",
              "</table>\n",
              "</div>\n",
              "      <button class=\"colab-df-convert\" onclick=\"convertToInteractive('df-a362eb28-d7a7-496f-977a-730f4e1ac41f')\"\n",
              "              title=\"Convert this dataframe to an interactive table.\"\n",
              "              style=\"display:none;\">\n",
              "        \n",
              "  <svg xmlns=\"http://www.w3.org/2000/svg\" height=\"24px\"viewBox=\"0 0 24 24\"\n",
              "       width=\"24px\">\n",
              "    <path d=\"M0 0h24v24H0V0z\" fill=\"none\"/>\n",
              "    <path d=\"M18.56 5.44l.94 2.06.94-2.06 2.06-.94-2.06-.94-.94-2.06-.94 2.06-2.06.94zm-11 1L8.5 8.5l.94-2.06 2.06-.94-2.06-.94L8.5 2.5l-.94 2.06-2.06.94zm10 10l.94 2.06.94-2.06 2.06-.94-2.06-.94-.94-2.06-.94 2.06-2.06.94z\"/><path d=\"M17.41 7.96l-1.37-1.37c-.4-.4-.92-.59-1.43-.59-.52 0-1.04.2-1.43.59L10.3 9.45l-7.72 7.72c-.78.78-.78 2.05 0 2.83L4 21.41c.39.39.9.59 1.41.59.51 0 1.02-.2 1.41-.59l7.78-7.78 2.81-2.81c.8-.78.8-2.07 0-2.86zM5.41 20L4 18.59l7.72-7.72 1.47 1.35L5.41 20z\"/>\n",
              "  </svg>\n",
              "      </button>\n",
              "      \n",
              "  <style>\n",
              "    .colab-df-container {\n",
              "      display:flex;\n",
              "      flex-wrap:wrap;\n",
              "      gap: 12px;\n",
              "    }\n",
              "\n",
              "    .colab-df-convert {\n",
              "      background-color: #E8F0FE;\n",
              "      border: none;\n",
              "      border-radius: 50%;\n",
              "      cursor: pointer;\n",
              "      display: none;\n",
              "      fill: #1967D2;\n",
              "      height: 32px;\n",
              "      padding: 0 0 0 0;\n",
              "      width: 32px;\n",
              "    }\n",
              "\n",
              "    .colab-df-convert:hover {\n",
              "      background-color: #E2EBFA;\n",
              "      box-shadow: 0px 1px 2px rgba(60, 64, 67, 0.3), 0px 1px 3px 1px rgba(60, 64, 67, 0.15);\n",
              "      fill: #174EA6;\n",
              "    }\n",
              "\n",
              "    [theme=dark] .colab-df-convert {\n",
              "      background-color: #3B4455;\n",
              "      fill: #D2E3FC;\n",
              "    }\n",
              "\n",
              "    [theme=dark] .colab-df-convert:hover {\n",
              "      background-color: #434B5C;\n",
              "      box-shadow: 0px 1px 3px 1px rgba(0, 0, 0, 0.15);\n",
              "      filter: drop-shadow(0px 1px 2px rgba(0, 0, 0, 0.3));\n",
              "      fill: #FFFFFF;\n",
              "    }\n",
              "  </style>\n",
              "\n",
              "      <script>\n",
              "        const buttonEl =\n",
              "          document.querySelector('#df-a362eb28-d7a7-496f-977a-730f4e1ac41f button.colab-df-convert');\n",
              "        buttonEl.style.display =\n",
              "          google.colab.kernel.accessAllowed ? 'block' : 'none';\n",
              "\n",
              "        async function convertToInteractive(key) {\n",
              "          const element = document.querySelector('#df-a362eb28-d7a7-496f-977a-730f4e1ac41f');\n",
              "          const dataTable =\n",
              "            await google.colab.kernel.invokeFunction('convertToInteractive',\n",
              "                                                     [key], {});\n",
              "          if (!dataTable) return;\n",
              "\n",
              "          const docLinkHtml = 'Like what you see? Visit the ' +\n",
              "            '<a target=\"_blank\" href=https://colab.research.google.com/notebooks/data_table.ipynb>data table notebook</a>'\n",
              "            + ' to learn more about interactive tables.';\n",
              "          element.innerHTML = '';\n",
              "          dataTable['output_type'] = 'display_data';\n",
              "          await google.colab.output.renderOutput(dataTable, element);\n",
              "          const docLink = document.createElement('div');\n",
              "          docLink.innerHTML = docLinkHtml;\n",
              "          element.appendChild(docLink);\n",
              "        }\n",
              "      </script>\n",
              "    </div>\n",
              "  </div>\n",
              "  "
            ]
          },
          "metadata": {},
          "execution_count": 35
        }
      ]
    },
    {
      "cell_type": "code",
      "source": [
        "plt.figure(figsize=(5, 5))\n",
        "(sns.lineplot(data = df_all, x = 'year', y = 'da').set(title = 'количество вакансий аналитиков по годам', xlabel = 'Год', ylabel = 'количество вакансий'))\n",
        "plt.show()"
      ],
      "metadata": {
        "id": "qjab3_sTHlAU",
        "colab": {
          "base_uri": "https://localhost:8080/",
          "height": 349
        },
        "outputId": "f153dc97-ceb5-422d-a478-7a642e93df88"
      },
      "execution_count": null,
      "outputs": [
        {
          "output_type": "display_data",
          "data": {
            "text/plain": [
              "<Figure size 360x360 with 1 Axes>"
            ],
            "image/png": "[encoded data removed]"
          },
          "metadata": {
            "needs_background": "light"
          }
        }
      ]
    },
    {
      "cell_type": "code",
      "source": [
        "plt.figure(figsize=(5, 5))\n",
        "(sns.lineplot(data = df_all, x = 'year', y = 'ds').set(title = 'количество вакансий сайентистов по годам', xlabel = 'Год', ylabel = 'количество вакансий'))\n",
        "plt.show()"
      ],
      "metadata": {
        "id": "UMmHUAMdOMox",
        "colab": {
          "base_uri": "https://localhost:8080/",
          "height": 349
        },
        "outputId": "c834d17e-2d7e-4ce7-9fba-f2a97e71dd74"
      },
      "execution_count": null,
      "outputs": [
        {
          "output_type": "display_data",
          "data": {
            "text/plain": [
              "<Figure size 360x360 with 1 Axes>"
            ],
            "image/png": "[encoded data removed]"
          },
          "metadata": {
            "needs_background": "light"
          }
        }
      ]
    },
    {
      "cell_type": "code",
      "source": [
        "# для education сделаем табличку\n",
        "df_ed = df[(df['education'])]\n",
        "df_ed_an = df_ed.pivot_table(index=['year'], values=['education'], aggfunc=['count']).reset_index()\n",
        "df_ed_an.columns=['year', 'education']\n",
        "df_ed_an"
      ],
      "metadata": {
        "id": "uvxmJhQWpY_U",
        "colab": {
          "base_uri": "https://localhost:8080/",
          "height": 174
        },
        "outputId": "ba88d090-a44d-4f29-cbad-33a3463a736c"
      },
      "execution_count": null,
      "outputs": [
        {
          "output_type": "execute_result",
          "data": {
            "text/plain": [
              "   year  education\n",
              "0  2019         67\n",
              "1  2020        239\n",
              "2  2021        421\n",
              "3  2022        275"
            ],
            "text/html": [
              "\n",
              "  <div id=\"df-bdab8fdf-6742-4424-a018-e0a921261404\">\n",
              "    <div class=\"colab-df-container\">\n",
              "      <div>\n",
              "<style scoped>\n",
              "    .dataframe tbody tr th:only-of-type {\n",
              "        vertical-align: middle;\n",
              "    }\n",
              "\n",
              "    .dataframe tbody tr th {\n",
              "        vertical-align: top;\n",
              "    }\n",
              "\n",
              "    .dataframe thead th {\n",
              "        text-align: right;\n",
              "    }\n",
              "</style>\n",
              "<table border=\"1\" class=\"dataframe\">\n",
              "  <thead>\n",
              "    <tr style=\"text-align: right;\">\n",
              "      <th></th>\n",
              "      <th>year</th>\n",
              "      <th>education</th>\n",
              "    </tr>\n",
              "  </thead>\n",
              "  <tbody>\n",
              "    <tr>\n",
              "      <th>0</th>\n",
              "      <td>2019</td>\n",
              "      <td>67</td>\n",
              "    </tr>\n",
              "    <tr>\n",
              "      <th>1</th>\n",
              "      <td>2020</td>\n",
              "      <td>239</td>\n",
              "    </tr>\n",
              "    <tr>\n",
              "      <th>2</th>\n",
              "      <td>2021</td>\n",
              "      <td>421</td>\n",
              "    </tr>\n",
              "    <tr>\n",
              "      <th>3</th>\n",
              "      <td>2022</td>\n",
              "      <td>275</td>\n",
              "    </tr>\n",
              "  </tbody>\n",
              "</table>\n",
              "</div>\n",
              "      <button class=\"colab-df-convert\" onclick=\"convertToInteractive('df-bdab8fdf-6742-4424-a018-e0a921261404')\"\n",
              "              title=\"Convert this dataframe to an interactive table.\"\n",
              "              style=\"display:none;\">\n",
              "        \n",
              "  <svg xmlns=\"http://www.w3.org/2000/svg\" height=\"24px\"viewBox=\"0 0 24 24\"\n",
              "       width=\"24px\">\n",
              "    <path d=\"M0 0h24v24H0V0z\" fill=\"none\"/>\n",
              "    <path d=\"M18.56 5.44l.94 2.06.94-2.06 2.06-.94-2.06-.94-.94-2.06-.94 2.06-2.06.94zm-11 1L8.5 8.5l.94-2.06 2.06-.94-2.06-.94L8.5 2.5l-.94 2.06-2.06.94zm10 10l.94 2.06.94-2.06 2.06-.94-2.06-.94-.94-2.06-.94 2.06-2.06.94z\"/><path d=\"M17.41 7.96l-1.37-1.37c-.4-.4-.92-.59-1.43-.59-.52 0-1.04.2-1.43.59L10.3 9.45l-7.72 7.72c-.78.78-.78 2.05 0 2.83L4 21.41c.39.39.9.59 1.41.59.51 0 1.02-.2 1.41-.59l7.78-7.78 2.81-2.81c.8-.78.8-2.07 0-2.86zM5.41 20L4 18.59l7.72-7.72 1.47 1.35L5.41 20z\"/>\n",
              "  </svg>\n",
              "      </button>\n",
              "      \n",
              "  <style>\n",
              "    .colab-df-container {\n",
              "      display:flex;\n",
              "      flex-wrap:wrap;\n",
              "      gap: 12px;\n",
              "    }\n",
              "\n",
              "    .colab-df-convert {\n",
              "      background-color: #E8F0FE;\n",
              "      border: none;\n",
              "      border-radius: 50%;\n",
              "      cursor: pointer;\n",
              "      display: none;\n",
              "      fill: #1967D2;\n",
              "      height: 32px;\n",
              "      padding: 0 0 0 0;\n",
              "      width: 32px;\n",
              "    }\n",
              "\n",
              "    .colab-df-convert:hover {\n",
              "      background-color: #E2EBFA;\n",
              "      box-shadow: 0px 1px 2px rgba(60, 64, 67, 0.3), 0px 1px 3px 1px rgba(60, 64, 67, 0.15);\n",
              "      fill: #174EA6;\n",
              "    }\n",
              "\n",
              "    [theme=dark] .colab-df-convert {\n",
              "      background-color: #3B4455;\n",
              "      fill: #D2E3FC;\n",
              "    }\n",
              "\n",
              "    [theme=dark] .colab-df-convert:hover {\n",
              "      background-color: #434B5C;\n",
              "      box-shadow: 0px 1px 3px 1px rgba(0, 0, 0, 0.15);\n",
              "      filter: drop-shadow(0px 1px 2px rgba(0, 0, 0, 0.3));\n",
              "      fill: #FFFFFF;\n",
              "    }\n",
              "  </style>\n",
              "\n",
              "      <script>\n",
              "        const buttonEl =\n",
              "          document.querySelector('#df-bdab8fdf-6742-4424-a018-e0a921261404 button.colab-df-convert');\n",
              "        buttonEl.style.display =\n",
              "          google.colab.kernel.accessAllowed ? 'block' : 'none';\n",
              "\n",
              "        async function convertToInteractive(key) {\n",
              "          const element = document.querySelector('#df-bdab8fdf-6742-4424-a018-e0a921261404');\n",
              "          const dataTable =\n",
              "            await google.colab.kernel.invokeFunction('convertToInteractive',\n",
              "                                                     [key], {});\n",
              "          if (!dataTable) return;\n",
              "\n",
              "          const docLinkHtml = 'Like what you see? Visit the ' +\n",
              "            '<a target=\"_blank\" href=https://colab.research.google.com/notebooks/data_table.ipynb>data table notebook</a>'\n",
              "            + ' to learn more about interactive tables.';\n",
              "          element.innerHTML = '';\n",
              "          dataTable['output_type'] = 'display_data';\n",
              "          await google.colab.output.renderOutput(dataTable, element);\n",
              "          const docLink = document.createElement('div');\n",
              "          docLink.innerHTML = docLinkHtml;\n",
              "          element.appendChild(docLink);\n",
              "        }\n",
              "      </script>\n",
              "    </div>\n",
              "  </div>\n",
              "  "
            ]
          },
          "metadata": {},
          "execution_count": 38
        }
      ]
    },
    {
      "cell_type": "markdown",
      "source": [
        "Education - наличие техънического образования (включая математику, прикладноу высшее, информатику)"
      ],
      "metadata": {
        "id": "TaJY6o-pzL6n"
      }
    },
    {
      "cell_type": "code",
      "source": [
        "plt.figure(figsize=(5, 5))\n",
        "(sns.lineplot(data = df_ed_an, x = 'year', y = 'education').set(title = 'количество вакансий с треб-м тех обр-я по годам', xlabel = 'Год', ylabel = 'количество вакансий'))\n",
        "plt.show()"
      ],
      "metadata": {
        "colab": {
          "base_uri": "https://localhost:8080/",
          "height": 349
        },
        "id": "mGEq0TfurQxx",
        "outputId": "fe40d649-0e0f-4c16-c08e-8ad87f429aaf"
      },
      "execution_count": null,
      "outputs": [
        {
          "output_type": "display_data",
          "data": {
            "text/plain": [
              "<Figure size 360x360 with 1 Axes>"
            ],
            "image/png": "[encoded data removed]"
          },
          "metadata": {
            "needs_background": "light"
          }
        }
      ]
    },
    {
      "cell_type": "markdown",
      "source": [
        "### Junior, Middle, Senior, Lead"
      ],
      "metadata": {
        "id": "edFZQ7r7z1yR"
      }
    },
    {
      "cell_type": "code",
      "source": [
        "# для Junior сделаем табличку\n",
        "df_j = df[(df['Junior'])]\n",
        "df_j_an = df_j.pivot_table(index=['year'], values=['Junior'], aggfunc=['count']).reset_index()\n",
        "df_j_an.columns=['year', 'Junior']\n",
        "\n",
        "# для Middle сделаем табличку\n",
        "df_m = df[(df['Middle'])]\n",
        "df_m_an = df_m.pivot_table(index=['year'], values=['Middle'], aggfunc=['count']).reset_index()\n",
        "df_m_an.columns=['year', 'Middle']\n",
        "\n",
        "# для Senior сделаем табличку\n",
        "df_s = df[(df['Senior'])]\n",
        "df_s_an = df_s.pivot_table(index=['year'], values=['Senior'], aggfunc=['count']).reset_index()\n",
        "df_s_an.columns=['year', 'Senior']\n",
        "\n",
        "# для Lead сделаем табличку\n",
        "df_l = df[(df['Lead'])]\n",
        "df_l_an = df_l.pivot_table(index=['year'], values=['Lead'], aggfunc=['count']).reset_index()\n",
        "df_l_an.columns=['year', 'Lead']\n",
        "\n",
        "# общую сделаем табличку\n",
        "df_jm = df_j_an.merge(df_m_an, how='left', on='year')\n",
        "df_jms = df_jm.merge(df_s_an, how='left', on='year')\n",
        "df_jmsl = df_jms.merge(df_l_an, how='left', on='year')\n",
        "df_jmsl"
      ],
      "metadata": {
        "id": "GHiEpmw8rQrR",
        "colab": {
          "base_uri": "https://localhost:8080/",
          "height": 174
        },
        "outputId": "b6459ecf-0e12-4f6a-a828-28520a8aa190"
      },
      "execution_count": null,
      "outputs": [
        {
          "output_type": "execute_result",
          "data": {
            "text/plain": [
              "   year  Junior  Middle  Senior  Lead\n",
              "0  2019      18      25      63    29\n",
              "1  2020      45     116     158    77\n",
              "2  2021     141     301     303   140\n",
              "3  2022     163     245     334   158"
            ],
            "text/html": [
              "\n",
              "  <div id=\"df-e1eebb5a-71ac-422c-a859-6e3571fa8363\">\n",
              "    <div class=\"colab-df-container\">\n",
              "      <div>\n",
              "<style scoped>\n",
              "    .dataframe tbody tr th:only-of-type {\n",
              "        vertical-align: middle;\n",
              "    }\n",
              "\n",
              "    .dataframe tbody tr th {\n",
              "        vertical-align: top;\n",
              "    }\n",
              "\n",
              "    .dataframe thead th {\n",
              "        text-align: right;\n",
              "    }\n",
              "</style>\n",
              "<table border=\"1\" class=\"dataframe\">\n",
              "  <thead>\n",
              "    <tr style=\"text-align: right;\">\n",
              "      <th></th>\n",
              "      <th>year</th>\n",
              "      <th>Junior</th>\n",
              "      <th>Middle</th>\n",
              "      <th>Senior</th>\n",
              "      <th>Lead</th>\n",
              "    </tr>\n",
              "  </thead>\n",
              "  <tbody>\n",
              "    <tr>\n",
              "      <th>0</th>\n",
              "      <td>2019</td>\n",
              "      <td>18</td>\n",
              "      <td>25</td>\n",
              "      <td>63</td>\n",
              "      <td>29</td>\n",
              "    </tr>\n",
              "    <tr>\n",
              "      <th>1</th>\n",
              "      <td>2020</td>\n",
              "      <td>45</td>\n",
              "      <td>116</td>\n",
              "      <td>158</td>\n",
              "      <td>77</td>\n",
              "    </tr>\n",
              "    <tr>\n",
              "      <th>2</th>\n",
              "      <td>2021</td>\n",
              "      <td>141</td>\n",
              "      <td>301</td>\n",
              "      <td>303</td>\n",
              "      <td>140</td>\n",
              "    </tr>\n",
              "    <tr>\n",
              "      <th>3</th>\n",
              "      <td>2022</td>\n",
              "      <td>163</td>\n",
              "      <td>245</td>\n",
              "      <td>334</td>\n",
              "      <td>158</td>\n",
              "    </tr>\n",
              "  </tbody>\n",
              "</table>\n",
              "</div>\n",
              "      <button class=\"colab-df-convert\" onclick=\"convertToInteractive('df-e1eebb5a-71ac-422c-a859-6e3571fa8363')\"\n",
              "              title=\"Convert this dataframe to an interactive table.\"\n",
              "              style=\"display:none;\">\n",
              "        \n",
              "  <svg xmlns=\"http://www.w3.org/2000/svg\" height=\"24px\"viewBox=\"0 0 24 24\"\n",
              "       width=\"24px\">\n",
              "    <path d=\"M0 0h24v24H0V0z\" fill=\"none\"/>\n",
              "    <path d=\"M18.56 5.44l.94 2.06.94-2.06 2.06-.94-2.06-.94-.94-2.06-.94 2.06-2.06.94zm-11 1L8.5 8.5l.94-2.06 2.06-.94-2.06-.94L8.5 2.5l-.94 2.06-2.06.94zm10 10l.94 2.06.94-2.06 2.06-.94-2.06-.94-.94-2.06-.94 2.06-2.06.94z\"/><path d=\"M17.41 7.96l-1.37-1.37c-.4-.4-.92-.59-1.43-.59-.52 0-1.04.2-1.43.59L10.3 9.45l-7.72 7.72c-.78.78-.78 2.05 0 2.83L4 21.41c.39.39.9.59 1.41.59.51 0 1.02-.2 1.41-.59l7.78-7.78 2.81-2.81c.8-.78.8-2.07 0-2.86zM5.41 20L4 18.59l7.72-7.72 1.47 1.35L5.41 20z\"/>\n",
              "  </svg>\n",
              "      </button>\n",
              "      \n",
              "  <style>\n",
              "    .colab-df-container {\n",
              "      display:flex;\n",
              "      flex-wrap:wrap;\n",
              "      gap: 12px;\n",
              "    }\n",
              "\n",
              "    .colab-df-convert {\n",
              "      background-color: #E8F0FE;\n",
              "      border: none;\n",
              "      border-radius: 50%;\n",
              "      cursor: pointer;\n",
              "      display: none;\n",
              "      fill: #1967D2;\n",
              "      height: 32px;\n",
              "      padding: 0 0 0 0;\n",
              "      width: 32px;\n",
              "    }\n",
              "\n",
              "    .colab-df-convert:hover {\n",
              "      background-color: #E2EBFA;\n",
              "      box-shadow: 0px 1px 2px rgba(60, 64, 67, 0.3), 0px 1px 3px 1px rgba(60, 64, 67, 0.15);\n",
              "      fill: #174EA6;\n",
              "    }\n",
              "\n",
              "    [theme=dark] .colab-df-convert {\n",
              "      background-color: #3B4455;\n",
              "      fill: #D2E3FC;\n",
              "    }\n",
              "\n",
              "    [theme=dark] .colab-df-convert:hover {\n",
              "      background-color: #434B5C;\n",
              "      box-shadow: 0px 1px 3px 1px rgba(0, 0, 0, 0.15);\n",
              "      filter: drop-shadow(0px 1px 2px rgba(0, 0, 0, 0.3));\n",
              "      fill: #FFFFFF;\n",
              "    }\n",
              "  </style>\n",
              "\n",
              "      <script>\n",
              "        const buttonEl =\n",
              "          document.querySelector('#df-e1eebb5a-71ac-422c-a859-6e3571fa8363 button.colab-df-convert');\n",
              "        buttonEl.style.display =\n",
              "          google.colab.kernel.accessAllowed ? 'block' : 'none';\n",
              "\n",
              "        async function convertToInteractive(key) {\n",
              "          const element = document.querySelector('#df-e1eebb5a-71ac-422c-a859-6e3571fa8363');\n",
              "          const dataTable =\n",
              "            await google.colab.kernel.invokeFunction('convertToInteractive',\n",
              "                                                     [key], {});\n",
              "          if (!dataTable) return;\n",
              "\n",
              "          const docLinkHtml = 'Like what you see? Visit the ' +\n",
              "            '<a target=\"_blank\" href=https://colab.research.google.com/notebooks/data_table.ipynb>data table notebook</a>'\n",
              "            + ' to learn more about interactive tables.';\n",
              "          element.innerHTML = '';\n",
              "          dataTable['output_type'] = 'display_data';\n",
              "          await google.colab.output.renderOutput(dataTable, element);\n",
              "          const docLink = document.createElement('div');\n",
              "          docLink.innerHTML = docLinkHtml;\n",
              "          element.appendChild(docLink);\n",
              "        }\n",
              "      </script>\n",
              "    </div>\n",
              "  </div>\n",
              "  "
            ]
          },
          "metadata": {},
          "execution_count": 40
        }
      ]
    },
    {
      "cell_type": "code",
      "source": [
        "plt.figure(figsize=(5, 5))\n",
        "(sns.lineplot(data = df_jmsl, x = 'year', y = 'Junior').set(title = 'количество вакансий Junior', xlabel = 'Год', ylabel = 'количество вакансий'))\n",
        "plt.show()"
      ],
      "metadata": {
        "colab": {
          "base_uri": "https://localhost:8080/",
          "height": 349
        },
        "id": "ev6WECJew3Qk",
        "outputId": "6a620653-fe6a-4cee-c22b-f431aaffef77"
      },
      "execution_count": null,
      "outputs": [
        {
          "output_type": "display_data",
          "data": {
            "text/plain": [
              "<Figure size 360x360 with 1 Axes>"
            ],
            "image/png": "[encoded data removed]"
          },
          "metadata": {
            "needs_background": "light"
          }
        }
      ]
    },
    {
      "cell_type": "code",
      "source": [
        "plt.figure(figsize=(5, 5))\n",
        "(sns.lineplot(data = df_jmsl, x = 'year', y = 'Middle').set(title = 'количество вакансий Middle', xlabel = 'Год', ylabel = 'количество вакансий'))\n",
        "plt.show()"
      ],
      "metadata": {
        "colab": {
          "base_uri": "https://localhost:8080/",
          "height": 349
        },
        "id": "Ojp4CsbXw3Ny",
        "outputId": "b98c3b55-dc14-4c59-8f9a-19793e0d0ebf"
      },
      "execution_count": null,
      "outputs": [
        {
          "output_type": "display_data",
          "data": {
            "text/plain": [
              "<Figure size 360x360 with 1 Axes>"
            ],
            "image/png": "[encoded data removed]"
          },
          "metadata": {
            "needs_background": "light"
          }
        }
      ]
    },
    {
      "cell_type": "code",
      "source": [
        "plt.figure(figsize=(5, 5))\n",
        "(sns.lineplot(data = df_jmsl, x = 'year', y = 'Senior').set(title = 'количество вакансий Senior', xlabel = 'Год', ylabel = 'количество вакансий'))\n",
        "plt.show()"
      ],
      "metadata": {
        "id": "090fg0MgrQgw",
        "colab": {
          "base_uri": "https://localhost:8080/",
          "height": 349
        },
        "outputId": "d7cd8526-d0cf-43ff-d69d-53318ef81ae2"
      },
      "execution_count": null,
      "outputs": [
        {
          "output_type": "display_data",
          "data": {
            "text/plain": [
              "<Figure size 360x360 with 1 Axes>"
            ],
            "image/png": "[encoded data removed]"
          },
          "metadata": {
            "needs_background": "light"
          }
        }
      ]
    },
    {
      "cell_type": "code",
      "source": [
        "plt.figure(figsize=(5, 5))\n",
        "(sns.lineplot(data = df_jmsl, x = 'year', y = 'Lead').set(title = 'количество вакансий Lead', xlabel = 'Год', ylabel = 'количество вакансий'))\n",
        "plt.show()"
      ],
      "metadata": {
        "colab": {
          "base_uri": "https://localhost:8080/",
          "height": 349
        },
        "id": "2qIP13WOx50A",
        "outputId": "3e04b956-2033-4b6f-e79e-8e8bcca67ff5"
      },
      "execution_count": null,
      "outputs": [
        {
          "output_type": "display_data",
          "data": {
            "text/plain": [
              "<Figure size 360x360 with 1 Axes>"
            ],
            "image/png": "[encoded data removed]"
          },
          "metadata": {
            "needs_background": "light"
          }
        }
      ]
    },
    {
      "cell_type": "markdown",
      "source": [
        "Из всего виден спад вакансий в 2022 году. Остальные вакансии растут."
      ],
      "metadata": {
        "id": "yKhp87SEyXPJ"
      }
    },
    {
      "cell_type": "markdown",
      "source": [
        "### Education"
      ],
      "metadata": {
        "id": "qIPSniuIyzgp"
      }
    },
    {
      "cell_type": "code",
      "source": [
        "# для Education сделаем табличку\n",
        "df_ed = df[(df['education'])]\n",
        "df_ed_an = df_ed.pivot_table(index=['year'], values=['education'], aggfunc=['count']).reset_index()\n",
        "df_ed_an.columns=['year', 'education']\n",
        "df_ed_an"
      ],
      "metadata": {
        "colab": {
          "base_uri": "https://localhost:8080/",
          "height": 174
        },
        "id": "sAW4lS6ZyALE",
        "outputId": "dc2d5b8f-1f33-4a0a-f388-f5a671b97626"
      },
      "execution_count": null,
      "outputs": [
        {
          "output_type": "execute_result",
          "data": {
            "text/plain": [
              "   year  education\n",
              "0  2019         67\n",
              "1  2020        239\n",
              "2  2021        421\n",
              "3  2022        275"
            ],
            "text/html": [
              "\n",
              "  <div id=\"df-7e1a8977-9d89-498a-8460-aecb9f4b95b9\">\n",
              "    <div class=\"colab-df-container\">\n",
              "      <div>\n",
              "<style scoped>\n",
              "    .dataframe tbody tr th:only-of-type {\n",
              "        vertical-align: middle;\n",
              "    }\n",
              "\n",
              "    .dataframe tbody tr th {\n",
              "        vertical-align: top;\n",
              "    }\n",
              "\n",
              "    .dataframe thead th {\n",
              "        text-align: right;\n",
              "    }\n",
              "</style>\n",
              "<table border=\"1\" class=\"dataframe\">\n",
              "  <thead>\n",
              "    <tr style=\"text-align: right;\">\n",
              "      <th></th>\n",
              "      <th>year</th>\n",
              "      <th>education</th>\n",
              "    </tr>\n",
              "  </thead>\n",
              "  <tbody>\n",
              "    <tr>\n",
              "      <th>0</th>\n",
              "      <td>2019</td>\n",
              "      <td>67</td>\n",
              "    </tr>\n",
              "    <tr>\n",
              "      <th>1</th>\n",
              "      <td>2020</td>\n",
              "      <td>239</td>\n",
              "    </tr>\n",
              "    <tr>\n",
              "      <th>2</th>\n",
              "      <td>2021</td>\n",
              "      <td>421</td>\n",
              "    </tr>\n",
              "    <tr>\n",
              "      <th>3</th>\n",
              "      <td>2022</td>\n",
              "      <td>275</td>\n",
              "    </tr>\n",
              "  </tbody>\n",
              "</table>\n",
              "</div>\n",
              "      <button class=\"colab-df-convert\" onclick=\"convertToInteractive('df-7e1a8977-9d89-498a-8460-aecb9f4b95b9')\"\n",
              "              title=\"Convert this dataframe to an interactive table.\"\n",
              "              style=\"display:none;\">\n",
              "        \n",
              "  <svg xmlns=\"http://www.w3.org/2000/svg\" height=\"24px\"viewBox=\"0 0 24 24\"\n",
              "       width=\"24px\">\n",
              "    <path d=\"M0 0h24v24H0V0z\" fill=\"none\"/>\n",
              "    <path d=\"M18.56 5.44l.94 2.06.94-2.06 2.06-.94-2.06-.94-.94-2.06-.94 2.06-2.06.94zm-11 1L8.5 8.5l.94-2.06 2.06-.94-2.06-.94L8.5 2.5l-.94 2.06-2.06.94zm10 10l.94 2.06.94-2.06 2.06-.94-2.06-.94-.94-2.06-.94 2.06-2.06.94z\"/><path d=\"M17.41 7.96l-1.37-1.37c-.4-.4-.92-.59-1.43-.59-.52 0-1.04.2-1.43.59L10.3 9.45l-7.72 7.72c-.78.78-.78 2.05 0 2.83L4 21.41c.39.39.9.59 1.41.59.51 0 1.02-.2 1.41-.59l7.78-7.78 2.81-2.81c.8-.78.8-2.07 0-2.86zM5.41 20L4 18.59l7.72-7.72 1.47 1.35L5.41 20z\"/>\n",
              "  </svg>\n",
              "      </button>\n",
              "      \n",
              "  <style>\n",
              "    .colab-df-container {\n",
              "      display:flex;\n",
              "      flex-wrap:wrap;\n",
              "      gap: 12px;\n",
              "    }\n",
              "\n",
              "    .colab-df-convert {\n",
              "      background-color: #E8F0FE;\n",
              "      border: none;\n",
              "      border-radius: 50%;\n",
              "      cursor: pointer;\n",
              "      display: none;\n",
              "      fill: #1967D2;\n",
              "      height: 32px;\n",
              "      padding: 0 0 0 0;\n",
              "      width: 32px;\n",
              "    }\n",
              "\n",
              "    .colab-df-convert:hover {\n",
              "      background-color: #E2EBFA;\n",
              "      box-shadow: 0px 1px 2px rgba(60, 64, 67, 0.3), 0px 1px 3px 1px rgba(60, 64, 67, 0.15);\n",
              "      fill: #174EA6;\n",
              "    }\n",
              "\n",
              "    [theme=dark] .colab-df-convert {\n",
              "      background-color: #3B4455;\n",
              "      fill: #D2E3FC;\n",
              "    }\n",
              "\n",
              "    [theme=dark] .colab-df-convert:hover {\n",
              "      background-color: #434B5C;\n",
              "      box-shadow: 0px 1px 3px 1px rgba(0, 0, 0, 0.15);\n",
              "      filter: drop-shadow(0px 1px 2px rgba(0, 0, 0, 0.3));\n",
              "      fill: #FFFFFF;\n",
              "    }\n",
              "  </style>\n",
              "\n",
              "      <script>\n",
              "        const buttonEl =\n",
              "          document.querySelector('#df-7e1a8977-9d89-498a-8460-aecb9f4b95b9 button.colab-df-convert');\n",
              "        buttonEl.style.display =\n",
              "          google.colab.kernel.accessAllowed ? 'block' : 'none';\n",
              "\n",
              "        async function convertToInteractive(key) {\n",
              "          const element = document.querySelector('#df-7e1a8977-9d89-498a-8460-aecb9f4b95b9');\n",
              "          const dataTable =\n",
              "            await google.colab.kernel.invokeFunction('convertToInteractive',\n",
              "                                                     [key], {});\n",
              "          if (!dataTable) return;\n",
              "\n",
              "          const docLinkHtml = 'Like what you see? Visit the ' +\n",
              "            '<a target=\"_blank\" href=https://colab.research.google.com/notebooks/data_table.ipynb>data table notebook</a>'\n",
              "            + ' to learn more about interactive tables.';\n",
              "          element.innerHTML = '';\n",
              "          dataTable['output_type'] = 'display_data';\n",
              "          await google.colab.output.renderOutput(dataTable, element);\n",
              "          const docLink = document.createElement('div');\n",
              "          docLink.innerHTML = docLinkHtml;\n",
              "          element.appendChild(docLink);\n",
              "        }\n",
              "      </script>\n",
              "    </div>\n",
              "  </div>\n",
              "  "
            ]
          },
          "metadata": {},
          "execution_count": 45
        }
      ]
    },
    {
      "cell_type": "code",
      "source": [
        "plt.figure(figsize=(5, 5))\n",
        "(sns.lineplot(data = df_ed_an, x = 'year', y = 'education').set(title = 'количество вакансий с тех. образованием', xlabel = 'Год', ylabel = 'количество вакансий'))\n",
        "plt.show()"
      ],
      "metadata": {
        "colab": {
          "base_uri": "https://localhost:8080/",
          "height": 349
        },
        "id": "n4IyF_Ut0eSJ",
        "outputId": "1098ba14-5d29-41b0-e613-258d8881ca77"
      },
      "execution_count": null,
      "outputs": [
        {
          "output_type": "display_data",
          "data": {
            "text/plain": [
              "<Figure size 360x360 with 1 Axes>"
            ],
            "image/png": "[encoded data removed]"
          },
          "metadata": {
            "needs_background": "light"
          }
        }
      ]
    },
    {
      "cell_type": "markdown",
      "source": [
        "Самый пик востребованности приходится на 2021 год. В 2022 году наблюдается спад."
      ],
      "metadata": {
        "id": "pOX0YSP4zqCs"
      }
    },
    {
      "cell_type": "markdown",
      "source": [
        "### English"
      ],
      "metadata": {
        "id": "Gr7eTxlkz9j2"
      }
    },
    {
      "cell_type": "code",
      "source": [
        "# для English сделаем табличку\n",
        "df_en = df[(df['english'])]\n",
        "df_en_an = df_en.pivot_table(index=['year'], values=['english'], aggfunc=['count']).reset_index()\n",
        "df_en_an.columns=['year', 'english']\n",
        "df_en_an"
      ],
      "metadata": {
        "colab": {
          "base_uri": "https://localhost:8080/",
          "height": 174
        },
        "id": "2nnoZ5nrzYLk",
        "outputId": "6bd92b88-640d-4db6-8275-baa1e4979732"
      },
      "execution_count": null,
      "outputs": [
        {
          "output_type": "execute_result",
          "data": {
            "text/plain": [
              "   year  english\n",
              "0  2019       67\n",
              "1  2020      239\n",
              "2  2021      421\n",
              "3  2022      275"
            ],
            "text/html": [
              "\n",
              "  <div id=\"df-ff95065b-8de5-4b0c-a08c-9e8192bf7a8c\">\n",
              "    <div class=\"colab-df-container\">\n",
              "      <div>\n",
              "<style scoped>\n",
              "    .dataframe tbody tr th:only-of-type {\n",
              "        vertical-align: middle;\n",
              "    }\n",
              "\n",
              "    .dataframe tbody tr th {\n",
              "        vertical-align: top;\n",
              "    }\n",
              "\n",
              "    .dataframe thead th {\n",
              "        text-align: right;\n",
              "    }\n",
              "</style>\n",
              "<table border=\"1\" class=\"dataframe\">\n",
              "  <thead>\n",
              "    <tr style=\"text-align: right;\">\n",
              "      <th></th>\n",
              "      <th>year</th>\n",
              "      <th>english</th>\n",
              "    </tr>\n",
              "  </thead>\n",
              "  <tbody>\n",
              "    <tr>\n",
              "      <th>0</th>\n",
              "      <td>2019</td>\n",
              "      <td>67</td>\n",
              "    </tr>\n",
              "    <tr>\n",
              "      <th>1</th>\n",
              "      <td>2020</td>\n",
              "      <td>239</td>\n",
              "    </tr>\n",
              "    <tr>\n",
              "      <th>2</th>\n",
              "      <td>2021</td>\n",
              "      <td>421</td>\n",
              "    </tr>\n",
              "    <tr>\n",
              "      <th>3</th>\n",
              "      <td>2022</td>\n",
              "      <td>275</td>\n",
              "    </tr>\n",
              "  </tbody>\n",
              "</table>\n",
              "</div>\n",
              "      <button class=\"colab-df-convert\" onclick=\"convertToInteractive('df-ff95065b-8de5-4b0c-a08c-9e8192bf7a8c')\"\n",
              "              title=\"Convert this dataframe to an interactive table.\"\n",
              "              style=\"display:none;\">\n",
              "        \n",
              "  <svg xmlns=\"http://www.w3.org/2000/svg\" height=\"24px\"viewBox=\"0 0 24 24\"\n",
              "       width=\"24px\">\n",
              "    <path d=\"M0 0h24v24H0V0z\" fill=\"none\"/>\n",
              "    <path d=\"M18.56 5.44l.94 2.06.94-2.06 2.06-.94-2.06-.94-.94-2.06-.94 2.06-2.06.94zm-11 1L8.5 8.5l.94-2.06 2.06-.94-2.06-.94L8.5 2.5l-.94 2.06-2.06.94zm10 10l.94 2.06.94-2.06 2.06-.94-2.06-.94-.94-2.06-.94 2.06-2.06.94z\"/><path d=\"M17.41 7.96l-1.37-1.37c-.4-.4-.92-.59-1.43-.59-.52 0-1.04.2-1.43.59L10.3 9.45l-7.72 7.72c-.78.78-.78 2.05 0 2.83L4 21.41c.39.39.9.59 1.41.59.51 0 1.02-.2 1.41-.59l7.78-7.78 2.81-2.81c.8-.78.8-2.07 0-2.86zM5.41 20L4 18.59l7.72-7.72 1.47 1.35L5.41 20z\"/>\n",
              "  </svg>\n",
              "      </button>\n",
              "      \n",
              "  <style>\n",
              "    .colab-df-container {\n",
              "      display:flex;\n",
              "      flex-wrap:wrap;\n",
              "      gap: 12px;\n",
              "    }\n",
              "\n",
              "    .colab-df-convert {\n",
              "      background-color: #E8F0FE;\n",
              "      border: none;\n",
              "      border-radius: 50%;\n",
              "      cursor: pointer;\n",
              "      display: none;\n",
              "      fill: #1967D2;\n",
              "      height: 32px;\n",
              "      padding: 0 0 0 0;\n",
              "      width: 32px;\n",
              "    }\n",
              "\n",
              "    .colab-df-convert:hover {\n",
              "      background-color: #E2EBFA;\n",
              "      box-shadow: 0px 1px 2px rgba(60, 64, 67, 0.3), 0px 1px 3px 1px rgba(60, 64, 67, 0.15);\n",
              "      fill: #174EA6;\n",
              "    }\n",
              "\n",
              "    [theme=dark] .colab-df-convert {\n",
              "      background-color: #3B4455;\n",
              "      fill: #D2E3FC;\n",
              "    }\n",
              "\n",
              "    [theme=dark] .colab-df-convert:hover {\n",
              "      background-color: #434B5C;\n",
              "      box-shadow: 0px 1px 3px 1px rgba(0, 0, 0, 0.15);\n",
              "      filter: drop-shadow(0px 1px 2px rgba(0, 0, 0, 0.3));\n",
              "      fill: #FFFFFF;\n",
              "    }\n",
              "  </style>\n",
              "\n",
              "      <script>\n",
              "        const buttonEl =\n",
              "          document.querySelector('#df-ff95065b-8de5-4b0c-a08c-9e8192bf7a8c button.colab-df-convert');\n",
              "        buttonEl.style.display =\n",
              "          google.colab.kernel.accessAllowed ? 'block' : 'none';\n",
              "\n",
              "        async function convertToInteractive(key) {\n",
              "          const element = document.querySelector('#df-ff95065b-8de5-4b0c-a08c-9e8192bf7a8c');\n",
              "          const dataTable =\n",
              "            await google.colab.kernel.invokeFunction('convertToInteractive',\n",
              "                                                     [key], {});\n",
              "          if (!dataTable) return;\n",
              "\n",
              "          const docLinkHtml = 'Like what you see? Visit the ' +\n",
              "            '<a target=\"_blank\" href=https://colab.research.google.com/notebooks/data_table.ipynb>data table notebook</a>'\n",
              "            + ' to learn more about interactive tables.';\n",
              "          element.innerHTML = '';\n",
              "          dataTable['output_type'] = 'display_data';\n",
              "          await google.colab.output.renderOutput(dataTable, element);\n",
              "          const docLink = document.createElement('div');\n",
              "          docLink.innerHTML = docLinkHtml;\n",
              "          element.appendChild(docLink);\n",
              "        }\n",
              "      </script>\n",
              "    </div>\n",
              "  </div>\n",
              "  "
            ]
          },
          "metadata": {},
          "execution_count": 47
        }
      ]
    },
    {
      "cell_type": "code",
      "source": [
        "plt.figure(figsize=(5, 5))\n",
        "(sns.lineplot(data = df_en_an, x = 'year', y = 'english').set(title = 'количество вакансий с требованием английского', xlabel = 'Год', ylabel = 'количество вакансий'))\n",
        "plt.show()"
      ],
      "metadata": {
        "colab": {
          "base_uri": "https://localhost:8080/",
          "height": 349
        },
        "id": "GoqB1dNE0j98",
        "outputId": "ab1bbe5d-cd47-4b72-bfd2-95e00c54628b"
      },
      "execution_count": null,
      "outputs": [
        {
          "output_type": "display_data",
          "data": {
            "text/plain": [
              "<Figure size 360x360 with 1 Axes>"
            ],
            "image/png": "[encoded data removed]"
          },
          "metadata": {
            "needs_background": "light"
          }
        }
      ]
    },
    {
      "cell_type": "markdown",
      "source": [
        "Также отмечается пик в 2021 году, а в 2022 году спад."
      ],
      "metadata": {
        "id": "mo663Zx90pww"
      }
    },
    {
      "cell_type": "markdown",
      "source": [
        "### Remote & Office"
      ],
      "metadata": {
        "id": "LGbZxbyK00sM"
      }
    },
    {
      "cell_type": "code",
      "source": [
        "# для remote сделаем табличку\n",
        "df_r = df[(df['remote'])]\n",
        "df_r_an = df_r.pivot_table(index=['year'], values=['remote'], aggfunc=['count']).reset_index()\n",
        "df_r_an.columns=['year', 'remote']\n",
        "\n",
        "# для office сделаем табличку\n",
        "df_of = df[(df['ds'])]\n",
        "df_of_an = df_of.pivot_table(index=['year'], values=['ofice'], aggfunc=['count']).reset_index()\n",
        "df_of_an.columns=['year', 'ofice']\n",
        "\n",
        "# общую сделаем табличку\n",
        "df_ro = df_r_an.merge(df_of_an, how='left', on='year')\n",
        "df_ro"
      ],
      "metadata": {
        "colab": {
          "base_uri": "https://localhost:8080/",
          "height": 174
        },
        "id": "0Gl3vfY50N4g",
        "outputId": "6462b958-19b2-490d-9bce-00fde3d327fe"
      },
      "execution_count": null,
      "outputs": [
        {
          "output_type": "execute_result",
          "data": {
            "text/plain": [
              "   year  remote  ofice\n",
              "0  2019      43    181\n",
              "1  2020     247    407\n",
              "2  2021     603    867\n",
              "3  2022     407    701"
            ],
            "text/html": [
              "\n",
              "  <div id=\"df-2df57063-0cfa-41af-95b7-35fefd7e4d42\">\n",
              "    <div class=\"colab-df-container\">\n",
              "      <div>\n",
              "<style scoped>\n",
              "    .dataframe tbody tr th:only-of-type {\n",
              "        vertical-align: middle;\n",
              "    }\n",
              "\n",
              "    .dataframe tbody tr th {\n",
              "        vertical-align: top;\n",
              "    }\n",
              "\n",
              "    .dataframe thead th {\n",
              "        text-align: right;\n",
              "    }\n",
              "</style>\n",
              "<table border=\"1\" class=\"dataframe\">\n",
              "  <thead>\n",
              "    <tr style=\"text-align: right;\">\n",
              "      <th></th>\n",
              "      <th>year</th>\n",
              "      <th>remote</th>\n",
              "      <th>ofice</th>\n",
              "    </tr>\n",
              "  </thead>\n",
              "  <tbody>\n",
              "    <tr>\n",
              "      <th>0</th>\n",
              "      <td>2019</td>\n",
              "      <td>43</td>\n",
              "      <td>181</td>\n",
              "    </tr>\n",
              "    <tr>\n",
              "      <th>1</th>\n",
              "      <td>2020</td>\n",
              "      <td>247</td>\n",
              "      <td>407</td>\n",
              "    </tr>\n",
              "    <tr>\n",
              "      <th>2</th>\n",
              "      <td>2021</td>\n",
              "      <td>603</td>\n",
              "      <td>867</td>\n",
              "    </tr>\n",
              "    <tr>\n",
              "      <th>3</th>\n",
              "      <td>2022</td>\n",
              "      <td>407</td>\n",
              "      <td>701</td>\n",
              "    </tr>\n",
              "  </tbody>\n",
              "</table>\n",
              "</div>\n",
              "      <button class=\"colab-df-convert\" onclick=\"convertToInteractive('df-2df57063-0cfa-41af-95b7-35fefd7e4d42')\"\n",
              "              title=\"Convert this dataframe to an interactive table.\"\n",
              "              style=\"display:none;\">\n",
              "        \n",
              "  <svg xmlns=\"http://www.w3.org/2000/svg\" height=\"24px\"viewBox=\"0 0 24 24\"\n",
              "       width=\"24px\">\n",
              "    <path d=\"M0 0h24v24H0V0z\" fill=\"none\"/>\n",
              "    <path d=\"M18.56 5.44l.94 2.06.94-2.06 2.06-.94-2.06-.94-.94-2.06-.94 2.06-2.06.94zm-11 1L8.5 8.5l.94-2.06 2.06-.94-2.06-.94L8.5 2.5l-.94 2.06-2.06.94zm10 10l.94 2.06.94-2.06 2.06-.94-2.06-.94-.94-2.06-.94 2.06-2.06.94z\"/><path d=\"M17.41 7.96l-1.37-1.37c-.4-.4-.92-.59-1.43-.59-.52 0-1.04.2-1.43.59L10.3 9.45l-7.72 7.72c-.78.78-.78 2.05 0 2.83L4 21.41c.39.39.9.59 1.41.59.51 0 1.02-.2 1.41-.59l7.78-7.78 2.81-2.81c.8-.78.8-2.07 0-2.86zM5.41 20L4 18.59l7.72-7.72 1.47 1.35L5.41 20z\"/>\n",
              "  </svg>\n",
              "      </button>\n",
              "      \n",
              "  <style>\n",
              "    .colab-df-container {\n",
              "      display:flex;\n",
              "      flex-wrap:wrap;\n",
              "      gap: 12px;\n",
              "    }\n",
              "\n",
              "    .colab-df-convert {\n",
              "      background-color: #E8F0FE;\n",
              "      border: none;\n",
              "      border-radius: 50%;\n",
              "      cursor: pointer;\n",
              "      display: none;\n",
              "      fill: #1967D2;\n",
              "      height: 32px;\n",
              "      padding: 0 0 0 0;\n",
              "      width: 32px;\n",
              "    }\n",
              "\n",
              "    .colab-df-convert:hover {\n",
              "      background-color: #E2EBFA;\n",
              "      box-shadow: 0px 1px 2px rgba(60, 64, 67, 0.3), 0px 1px 3px 1px rgba(60, 64, 67, 0.15);\n",
              "      fill: #174EA6;\n",
              "    }\n",
              "\n",
              "    [theme=dark] .colab-df-convert {\n",
              "      background-color: #3B4455;\n",
              "      fill: #D2E3FC;\n",
              "    }\n",
              "\n",
              "    [theme=dark] .colab-df-convert:hover {\n",
              "      background-color: #434B5C;\n",
              "      box-shadow: 0px 1px 3px 1px rgba(0, 0, 0, 0.15);\n",
              "      filter: drop-shadow(0px 1px 2px rgba(0, 0, 0, 0.3));\n",
              "      fill: #FFFFFF;\n",
              "    }\n",
              "  </style>\n",
              "\n",
              "      <script>\n",
              "        const buttonEl =\n",
              "          document.querySelector('#df-2df57063-0cfa-41af-95b7-35fefd7e4d42 button.colab-df-convert');\n",
              "        buttonEl.style.display =\n",
              "          google.colab.kernel.accessAllowed ? 'block' : 'none';\n",
              "\n",
              "        async function convertToInteractive(key) {\n",
              "          const element = document.querySelector('#df-2df57063-0cfa-41af-95b7-35fefd7e4d42');\n",
              "          const dataTable =\n",
              "            await google.colab.kernel.invokeFunction('convertToInteractive',\n",
              "                                                     [key], {});\n",
              "          if (!dataTable) return;\n",
              "\n",
              "          const docLinkHtml = 'Like what you see? Visit the ' +\n",
              "            '<a target=\"_blank\" href=https://colab.research.google.com/notebooks/data_table.ipynb>data table notebook</a>'\n",
              "            + ' to learn more about interactive tables.';\n",
              "          element.innerHTML = '';\n",
              "          dataTable['output_type'] = 'display_data';\n",
              "          await google.colab.output.renderOutput(dataTable, element);\n",
              "          const docLink = document.createElement('div');\n",
              "          docLink.innerHTML = docLinkHtml;\n",
              "          element.appendChild(docLink);\n",
              "        }\n",
              "      </script>\n",
              "    </div>\n",
              "  </div>\n",
              "  "
            ]
          },
          "metadata": {},
          "execution_count": 49
        }
      ]
    },
    {
      "cell_type": "code",
      "source": [
        "plt.figure(figsize=(5, 5))\n",
        "(sns.lineplot(data = df_ro, x = 'year', y = 'remote').set(title = 'количество вакансий удалённо', xlabel = 'Год', ylabel = 'количество вакансий'))\n",
        "plt.show()"
      ],
      "metadata": {
        "colab": {
          "base_uri": "https://localhost:8080/",
          "height": 349
        },
        "id": "9RzpDWYp1MLl",
        "outputId": "5d39464b-334e-4cdf-c236-0d5d28249aad"
      },
      "execution_count": null,
      "outputs": [
        {
          "output_type": "display_data",
          "data": {
            "text/plain": [
              "<Figure size 360x360 with 1 Axes>"
            ],
            "image/png": "[encoded data removed]"
          },
          "metadata": {
            "needs_background": "light"
          }
        }
      ]
    },
    {
      "cell_type": "code",
      "source": [
        "plt.figure(figsize=(5, 5))\n",
        "(sns.lineplot(data = df_ro, x = 'year', y = 'ofice').set(title = 'количество вакансий в офисе', xlabel = 'Год', ylabel = 'количество вакансий'))\n",
        "plt.show()"
      ],
      "metadata": {
        "colab": {
          "base_uri": "https://localhost:8080/",
          "height": 349
        },
        "id": "ixurIZFE2aUt",
        "outputId": "7d328c2f-7207-4c64-ea59-f03e0bd5bbf7"
      },
      "execution_count": null,
      "outputs": [
        {
          "output_type": "display_data",
          "data": {
            "text/plain": [
              "<Figure size 360x360 with 1 Axes>"
            ],
            "image/png": "[encoded data removed]"
          },
          "metadata": {
            "needs_background": "light"
          }
        }
      ]
    },
    {
      "cell_type": "markdown",
      "source": [
        "Также отмечается спад в 2022 году."
      ],
      "metadata": {
        "id": "Vhr0gBvQ7ls8"
      }
    },
    {
      "cell_type": "markdown",
      "source": [
        "### Выводы:\n",
        "\n",
        "Кол-во вакансий с требованием технического образования и английского языка имело пик в 2021 году, в 2022 году имеет спад. Все вакансии, кроме middle до сих пор имеют отчётливый рост. Кол-во аналитиков растёт по сей день. Дата сайентистов пик был только в 2021 году."
      ],
      "metadata": {
        "id": "-na7PaUE4JUW"
      }
    },
    {
      "cell_type": "code",
      "source": [],
      "metadata": {
        "id": "UgxtuORv5HXX"
      },
      "execution_count": null,
      "outputs": []
    }
  ],
  "metadata": {
    "kernelspec": {
      "display_name": "Python 3 (ipykernel)",
      "language": "python",
      "name": "python3"
    },
    "language_info": {
      "codemirror_mode": {
        "name": "ipython",
        "version": 3
      },
      "file_extension": ".py",
      "mimetype": "text/x-python",
      "name": "python",
      "nbconvert_exporter": "python",
      "pygments_lexer": "ipython3",
      "version": "3.7.8"
    },
    "colab": {
      "provenance": [],
      "collapsed_sections": []
    }
  },
  "nbformat": 4,
  "nbformat_minor": 0
}